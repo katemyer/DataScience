{
 "cells": [
  {
   "cell_type": "code",
   "execution_count": null,
   "id": "c2c285a2-0000-44ea-a6e4-6dde50382b94",
   "metadata": {},
   "outputs": [],
   "source": [
    "```\n",
    "Data Storytelling\n",
    "\n",
    "add story here\n",
    "```"
   ]
  },
  {
   "cell_type": "code",
   "execution_count": null,
   "id": "42c9cbca-0b41-4905-9423-e241064f5f5f",
   "metadata": {},
   "outputs": [],
   "source": [
    "#Import packages and load dataset\n",
    "import matplotlib.pyplot as plt\n",
    "import seaborn as sns\n",
    "import pandas as pd\n",
    "\n"
   ]
  }
 ],
 "metadata": {
  "kernelspec": {
   "display_name": "Python 3 (ipykernel)",
   "language": "python",
   "name": "python3"
  },
  "language_info": {
   "codemirror_mode": {
    "name": "ipython",
    "version": 3
   },
   "file_extension": ".py",
   "mimetype": "text/x-python",
   "name": "python",
   "nbconvert_exporter": "python",
   "pygments_lexer": "ipython3",
   "version": "3.12.4"
  }
 },
 "nbformat": 4,
 "nbformat_minor": 5
}

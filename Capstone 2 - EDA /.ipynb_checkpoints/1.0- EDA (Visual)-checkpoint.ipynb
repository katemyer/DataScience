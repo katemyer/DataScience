{
 "cells": [
  {
   "cell_type": "code",
   "execution_count": null,
   "id": "c2c285a2-0000-44ea-a6e4-6dde50382b94",
   "metadata": {},
   "outputs": [],
   "source": [
    "```\n",
    "Data Storytelling\n",
    "\n",
    "add story here\n",
    "```"
   ]
  },
  {
   "cell_type": "code",
   "execution_count": 23,
   "id": "42c9cbca-0b41-4905-9423-e241064f5f5f",
   "metadata": {},
   "outputs": [
    {
     "name": "stdout",
     "output_type": "stream",
     "text": [
      "   DRNK3GE5  SLEPTIM1  EMTSUPRT  INCOME3  SEXVAR\n",
      "0       NaN       8.0       1.0     99.0       2\n",
      "1       NaN       6.0       1.0      5.0       2\n",
      "2       NaN       5.0       2.0     10.0       2\n",
      "3       NaN       7.0       1.0     77.0       2\n",
      "4      88.0       9.0       1.0      5.0       2\n"
     ]
    }
   ],
   "source": [
    "import requests\n",
    "import pandas as pd\n",
    "import matplotlib.pyplot as plt\n",
    "import seaborn as sns\n",
    "import numpy as np\n",
    "\n",
    "# Optional: Configure matplotlib for inline display in Jupyter\n",
    "%matplotlib inline\n",
    "\n",
    "#Loading the Data\n",
    "df = pd.read_csv('../../DataScience/Capstone 2 - Data Wrangling/brfss_2022_final.csv')\n",
    "\n",
    "# Display the first few rows of the DataFrame\n",
    "print(df.head())"
   ]
  },
  {
   "cell_type": "code",
   "execution_count": null,
   "id": "92ccb7f3-f522-4281-b4c1-c04eef40a1fd",
   "metadata": {},
   "outputs": [],
   "source": []
  }
 ],
 "metadata": {
  "kernelspec": {
   "display_name": "Python 3 (ipykernel)",
   "language": "python",
   "name": "python3"
  },
  "language_info": {
   "codemirror_mode": {
    "name": "ipython",
    "version": 3
   },
   "file_extension": ".py",
   "mimetype": "text/x-python",
   "name": "python",
   "nbconvert_exporter": "python",
   "pygments_lexer": "ipython3",
   "version": "3.12.4"
  }
 },
 "nbformat": 4,
 "nbformat_minor": 5
}

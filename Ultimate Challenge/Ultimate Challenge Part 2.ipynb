{
 "cells": [
  {
   "cell_type": "markdown",
   "id": "1ab2a28e-398a-4c33-9d69-20b59d596510",
   "metadata": {},
   "source": [
    "## Ultimate Challenge Part 2\n",
    "Note that this part does not require as it is asking for key measure of success, proposed experiment design, and interpretation of recommendations\n",
    "\n",
    "This is an interesting case because in Washington State, we have 2 bridges that take toll, the 90 freeway and the bridge coming back to Tacoma from Bremerton. I have thought about how the state determined what travel direction and how much toll to charge. This sometimes impacts the decision to travel to these areas as someone who does not live near these two tolls bridges. \n",
    "\n",
    "1) What would you choose as the key measure of success of this experiment in encouraging driver partners to serve both cities, and why would you choose this metric?\n",
    "\n",
    "I would choose the proportion (or percentage) of driver partners who operate in both cities as the key measure. This metric directly captures the objective—encouraging drivers to serve both Gotham and Metropolis—by quantifying how many drivers are “dual-city” rather than exclusive to one city. An alternative (or complementary) metric might be the average number of cross-city trips per driver, which would also reflect increased participation across both markets.\n",
    "\n",
    "2) Describe a practical experiment you would design to compare the effectiveness of the proposed change in relation to the key measure of success. Please provide details on:\n",
    "   \n",
    "a) how you will implement the experiment\n",
    "- Randomized Controlled Trial: Randomly assign driver partners into two groups: a treatment group that receives reimbursement for all toll bridge costs and a control group that does not.\n",
    "- Duration & Data Collection: Run the experiment for a fixed period (e.g., 4–6 weeks), ensuring both weekdays and weekends are included. Collect data on each driver's trips in Gotham and Metropolis before, during, and after the intervention.\n",
    "- Baseline Matching: Ensure that the groups are similar in terms of historical driving patterns (e.g., previous dual-city activity) to control for potential confounding factors.\n",
    "\n",
    "b) what statistical test(s) you will conduct to verify the significance of the observation\n",
    "\n",
    "- t-Test: At the end of the experiment, conduct a t-test to compare the mean cross-city activity (either as a proportion of drivers or average cross-city trips) between the treatment and control groups, verifying the statistical significance of any observed differences.\n",
    "  \n",
    "c) how you would interpret the results and provide recommendations to the city operations team along with any caveats.\n",
    "\n",
    "- In the absence of a significant difference, it might suggest that toll costs are not a major barrier, or that other factors (e.g., schedule constraints, personal preferences) play a larger role in driver exclusivity.\n",
    "- Recommendations\n",
    "    - Scale-Up: If successful, recommend rolling out the toll reimbursement policy across all driver partners to increase cross-city service availability.\n",
    "    - Monitor Long-Term Effects: Implement ongoing monitoring to ensure the behavioral changes persist and to adjust the program as needed.\n",
    "    - Further Analysis: Consider additional experiments that incorporate other potential incentives (e.g., bonus payments for dual-city trips) to further boost participation.\n",
    "- Caveats\n",
    "    - External factors (e.g., weather, special events) might affect driving patterns during the experiment.\n",
    "    - The experiment’s duration should be long enough to capture regular weekday and weekend patterns."
   ]
  },
  {
   "cell_type": "code",
   "execution_count": null,
   "id": "727f7c27-83d6-4d73-acee-3632bb892e09",
   "metadata": {},
   "outputs": [],
   "source": []
  }
 ],
 "metadata": {
  "kernelspec": {
   "display_name": "Python 3 (ipykernel)",
   "language": "python",
   "name": "python3"
  },
  "language_info": {
   "codemirror_mode": {
    "name": "ipython",
    "version": 3
   },
   "file_extension": ".py",
   "mimetype": "text/x-python",
   "name": "python",
   "nbconvert_exporter": "python",
   "pygments_lexer": "ipython3",
   "version": "3.12.4"
  }
 },
 "nbformat": 4,
 "nbformat_minor": 5
}

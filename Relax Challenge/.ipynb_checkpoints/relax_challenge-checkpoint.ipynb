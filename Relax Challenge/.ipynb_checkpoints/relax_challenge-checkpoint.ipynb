{
 "cells": [
  {
   "cell_type": "markdown",
   "id": "1d351e80-d4d0-44f8-86b7-db622a77a356",
   "metadata": {},
   "source": [
    "### What is an adopted user?\n",
    "\n",
    "Someone who logged in on three seperate days during a 7-day period. Goal is to indentify which factors predict future user adoption"
   ]
  },
  {
   "cell_type": "code",
   "execution_count": 94,
   "id": "46b11159-28cb-4e4f-ac3c-33607b46f9db",
   "metadata": {},
   "outputs": [],
   "source": [
    "# Set up libraries\n",
    "import pandas as pd\n",
    "import numpy as np\n",
    "import matplotlib.pyplot as plt\n",
    "import seaborn as sns"
   ]
  },
  {
   "cell_type": "markdown",
   "id": "78b61dab-c28a-45bb-a175-0fb321b33a26",
   "metadata": {},
   "source": [
    "### Data Wrangling"
   ]
  },
  {
   "cell_type": "code",
   "execution_count": 96,
   "id": "accaee39-012c-4cac-86fa-48b708f67a66",
   "metadata": {},
   "outputs": [],
   "source": [
    "# Load the data\n",
    "df_engagement = pd.read_csv('takehome_user_engagement.csv')"
   ]
  },
  {
   "cell_type": "code",
   "execution_count": 97,
   "id": "6a13a720-7674-4b96-8555-63fab8652dfe",
   "metadata": {},
   "outputs": [
    {
     "data": {
      "text/html": [
       "<div>\n",
       "<style scoped>\n",
       "    .dataframe tbody tr th:only-of-type {\n",
       "        vertical-align: middle;\n",
       "    }\n",
       "\n",
       "    .dataframe tbody tr th {\n",
       "        vertical-align: top;\n",
       "    }\n",
       "\n",
       "    .dataframe thead th {\n",
       "        text-align: right;\n",
       "    }\n",
       "</style>\n",
       "<table border=\"1\" class=\"dataframe\">\n",
       "  <thead>\n",
       "    <tr style=\"text-align: right;\">\n",
       "      <th></th>\n",
       "      <th>time_stamp</th>\n",
       "      <th>user_id</th>\n",
       "      <th>visited</th>\n",
       "    </tr>\n",
       "  </thead>\n",
       "  <tbody>\n",
       "    <tr>\n",
       "      <th>0</th>\n",
       "      <td>2014-04-22 03:53:30</td>\n",
       "      <td>1</td>\n",
       "      <td>1</td>\n",
       "    </tr>\n",
       "    <tr>\n",
       "      <th>1</th>\n",
       "      <td>2013-11-15 03:45:04</td>\n",
       "      <td>2</td>\n",
       "      <td>1</td>\n",
       "    </tr>\n",
       "    <tr>\n",
       "      <th>2</th>\n",
       "      <td>2013-11-29 03:45:04</td>\n",
       "      <td>2</td>\n",
       "      <td>1</td>\n",
       "    </tr>\n",
       "    <tr>\n",
       "      <th>3</th>\n",
       "      <td>2013-12-09 03:45:04</td>\n",
       "      <td>2</td>\n",
       "      <td>1</td>\n",
       "    </tr>\n",
       "    <tr>\n",
       "      <th>4</th>\n",
       "      <td>2013-12-25 03:45:04</td>\n",
       "      <td>2</td>\n",
       "      <td>1</td>\n",
       "    </tr>\n",
       "  </tbody>\n",
       "</table>\n",
       "</div>"
      ],
      "text/plain": [
       "            time_stamp  user_id  visited\n",
       "0  2014-04-22 03:53:30        1        1\n",
       "1  2013-11-15 03:45:04        2        1\n",
       "2  2013-11-29 03:45:04        2        1\n",
       "3  2013-12-09 03:45:04        2        1\n",
       "4  2013-12-25 03:45:04        2        1"
      ]
     },
     "execution_count": 97,
     "metadata": {},
     "output_type": "execute_result"
    }
   ],
   "source": [
    "df_engagement.head()"
   ]
  },
  {
   "cell_type": "code",
   "execution_count": 98,
   "id": "f9c5cae3-3ed6-4541-ae4d-b80a3369a14f",
   "metadata": {},
   "outputs": [
    {
     "name": "stdout",
     "output_type": "stream",
     "text": [
      "<class 'pandas.core.frame.DataFrame'>\n",
      "RangeIndex: 207917 entries, 0 to 207916\n",
      "Data columns (total 3 columns):\n",
      " #   Column      Non-Null Count   Dtype \n",
      "---  ------      --------------   ----- \n",
      " 0   time_stamp  207917 non-null  object\n",
      " 1   user_id     207917 non-null  int64 \n",
      " 2   visited     207917 non-null  int64 \n",
      "dtypes: int64(2), object(1)\n",
      "memory usage: 4.8+ MB\n"
     ]
    }
   ],
   "source": [
    "# get information assessing the size of dataset\n",
    "# identifying missing values at a high level and checking if columns have the correct data types\n",
    "df_engagement.info()"
   ]
  },
  {
   "cell_type": "code",
   "execution_count": 99,
   "id": "b0faa156-f108-45f6-b7cd-8c6950187cc4",
   "metadata": {},
   "outputs": [],
   "source": [
    "# convert time_stamp to datetime\n",
    "df_engagement.time_stamp = pd.to_datetime(df_engagement.time_stamp, format = '%Y-%m-%d %H:%M:%S')"
   ]
  },
  {
   "cell_type": "code",
   "execution_count": 100,
   "id": "76d1522e-dbb2-4fe5-a129-0e5491efd533",
   "metadata": {},
   "outputs": [
    {
     "data": {
      "text/plain": [
       "time_stamp    0\n",
       "user_id       0\n",
       "visited       0\n",
       "dtype: int64"
      ]
     },
     "execution_count": 100,
     "metadata": {},
     "output_type": "execute_result"
    }
   ],
   "source": [
    "# check for missing values\n",
    "df_engagement.isna().sum()"
   ]
  },
  {
   "cell_type": "code",
   "execution_count": 101,
   "id": "0d567943-4b34-4805-855c-7fb67f27ea40",
   "metadata": {},
   "outputs": [],
   "source": [
    "# load other dataset\n",
    "df_users = pd.read_csv('takehome_users.csv', encoding='latin-1')"
   ]
  },
  {
   "cell_type": "code",
   "execution_count": 102,
   "id": "2a6997df-fce7-4d78-ad54-9990e177893a",
   "metadata": {},
   "outputs": [
    {
     "data": {
      "text/html": [
       "<div>\n",
       "<style scoped>\n",
       "    .dataframe tbody tr th:only-of-type {\n",
       "        vertical-align: middle;\n",
       "    }\n",
       "\n",
       "    .dataframe tbody tr th {\n",
       "        vertical-align: top;\n",
       "    }\n",
       "\n",
       "    .dataframe thead th {\n",
       "        text-align: right;\n",
       "    }\n",
       "</style>\n",
       "<table border=\"1\" class=\"dataframe\">\n",
       "  <thead>\n",
       "    <tr style=\"text-align: right;\">\n",
       "      <th></th>\n",
       "      <th>object_id</th>\n",
       "      <th>creation_time</th>\n",
       "      <th>name</th>\n",
       "      <th>email</th>\n",
       "      <th>creation_source</th>\n",
       "      <th>last_session_creation_time</th>\n",
       "      <th>opted_in_to_mailing_list</th>\n",
       "      <th>enabled_for_marketing_drip</th>\n",
       "      <th>org_id</th>\n",
       "      <th>invited_by_user_id</th>\n",
       "    </tr>\n",
       "  </thead>\n",
       "  <tbody>\n",
       "    <tr>\n",
       "      <th>0</th>\n",
       "      <td>1</td>\n",
       "      <td>2014-04-22 03:53:30</td>\n",
       "      <td>Clausen August</td>\n",
       "      <td>AugustCClausen@yahoo.com</td>\n",
       "      <td>GUEST_INVITE</td>\n",
       "      <td>1.398139e+09</td>\n",
       "      <td>1</td>\n",
       "      <td>0</td>\n",
       "      <td>11</td>\n",
       "      <td>10803.0</td>\n",
       "    </tr>\n",
       "    <tr>\n",
       "      <th>1</th>\n",
       "      <td>2</td>\n",
       "      <td>2013-11-15 03:45:04</td>\n",
       "      <td>Poole Matthew</td>\n",
       "      <td>MatthewPoole@gustr.com</td>\n",
       "      <td>ORG_INVITE</td>\n",
       "      <td>1.396238e+09</td>\n",
       "      <td>0</td>\n",
       "      <td>0</td>\n",
       "      <td>1</td>\n",
       "      <td>316.0</td>\n",
       "    </tr>\n",
       "    <tr>\n",
       "      <th>2</th>\n",
       "      <td>3</td>\n",
       "      <td>2013-03-19 23:14:52</td>\n",
       "      <td>Bottrill Mitchell</td>\n",
       "      <td>MitchellBottrill@gustr.com</td>\n",
       "      <td>ORG_INVITE</td>\n",
       "      <td>1.363735e+09</td>\n",
       "      <td>0</td>\n",
       "      <td>0</td>\n",
       "      <td>94</td>\n",
       "      <td>1525.0</td>\n",
       "    </tr>\n",
       "    <tr>\n",
       "      <th>3</th>\n",
       "      <td>4</td>\n",
       "      <td>2013-05-21 08:09:28</td>\n",
       "      <td>Clausen Nicklas</td>\n",
       "      <td>NicklasSClausen@yahoo.com</td>\n",
       "      <td>GUEST_INVITE</td>\n",
       "      <td>1.369210e+09</td>\n",
       "      <td>0</td>\n",
       "      <td>0</td>\n",
       "      <td>1</td>\n",
       "      <td>5151.0</td>\n",
       "    </tr>\n",
       "    <tr>\n",
       "      <th>4</th>\n",
       "      <td>5</td>\n",
       "      <td>2013-01-17 10:14:20</td>\n",
       "      <td>Raw Grace</td>\n",
       "      <td>GraceRaw@yahoo.com</td>\n",
       "      <td>GUEST_INVITE</td>\n",
       "      <td>1.358850e+09</td>\n",
       "      <td>0</td>\n",
       "      <td>0</td>\n",
       "      <td>193</td>\n",
       "      <td>5240.0</td>\n",
       "    </tr>\n",
       "  </tbody>\n",
       "</table>\n",
       "</div>"
      ],
      "text/plain": [
       "   object_id        creation_time               name  \\\n",
       "0          1  2014-04-22 03:53:30     Clausen August   \n",
       "1          2  2013-11-15 03:45:04      Poole Matthew   \n",
       "2          3  2013-03-19 23:14:52  Bottrill Mitchell   \n",
       "3          4  2013-05-21 08:09:28    Clausen Nicklas   \n",
       "4          5  2013-01-17 10:14:20          Raw Grace   \n",
       "\n",
       "                        email creation_source  last_session_creation_time  \\\n",
       "0    AugustCClausen@yahoo.com    GUEST_INVITE                1.398139e+09   \n",
       "1      MatthewPoole@gustr.com      ORG_INVITE                1.396238e+09   \n",
       "2  MitchellBottrill@gustr.com      ORG_INVITE                1.363735e+09   \n",
       "3   NicklasSClausen@yahoo.com    GUEST_INVITE                1.369210e+09   \n",
       "4          GraceRaw@yahoo.com    GUEST_INVITE                1.358850e+09   \n",
       "\n",
       "   opted_in_to_mailing_list  enabled_for_marketing_drip  org_id  \\\n",
       "0                         1                           0      11   \n",
       "1                         0                           0       1   \n",
       "2                         0                           0      94   \n",
       "3                         0                           0       1   \n",
       "4                         0                           0     193   \n",
       "\n",
       "   invited_by_user_id  \n",
       "0             10803.0  \n",
       "1               316.0  \n",
       "2              1525.0  \n",
       "3              5151.0  \n",
       "4              5240.0  "
      ]
     },
     "execution_count": 102,
     "metadata": {},
     "output_type": "execute_result"
    }
   ],
   "source": [
    "df_users.head()"
   ]
  },
  {
   "cell_type": "code",
   "execution_count": 103,
   "id": "7be8ba5e-f208-4c59-ac61-40c121c94f11",
   "metadata": {},
   "outputs": [
    {
     "name": "stdout",
     "output_type": "stream",
     "text": [
      "<class 'pandas.core.frame.DataFrame'>\n",
      "RangeIndex: 12000 entries, 0 to 11999\n",
      "Data columns (total 10 columns):\n",
      " #   Column                      Non-Null Count  Dtype  \n",
      "---  ------                      --------------  -----  \n",
      " 0   object_id                   12000 non-null  int64  \n",
      " 1   creation_time               12000 non-null  object \n",
      " 2   name                        12000 non-null  object \n",
      " 3   email                       12000 non-null  object \n",
      " 4   creation_source             12000 non-null  object \n",
      " 5   last_session_creation_time  8823 non-null   float64\n",
      " 6   opted_in_to_mailing_list    12000 non-null  int64  \n",
      " 7   enabled_for_marketing_drip  12000 non-null  int64  \n",
      " 8   org_id                      12000 non-null  int64  \n",
      " 9   invited_by_user_id          6417 non-null   float64\n",
      "dtypes: float64(2), int64(4), object(4)\n",
      "memory usage: 937.6+ KB\n"
     ]
    }
   ],
   "source": [
    "df_users.info()"
   ]
  },
  {
   "cell_type": "code",
   "execution_count": 118,
   "id": "fb2e13c6-17ee-46d3-8c7d-c2029546776f",
   "metadata": {},
   "outputs": [],
   "source": [
    "# rename 'object_id' to 'user_id'\n",
    "df_users.rename(columns={'object_id': 'user_id'}, inplace=True)"
   ]
  },
  {
   "cell_type": "code",
   "execution_count": 120,
   "id": "206c4d88-2095-4152-a974-c19f41762bab",
   "metadata": {},
   "outputs": [],
   "source": [
    "# convert creation_time to datetime\n",
    "df_users.creation_time = pd.to_datetime(df_users.creation_time, format = '%Y-%m-%d %H:%M:%S')"
   ]
  },
  {
   "cell_type": "code",
   "execution_count": 122,
   "id": "bcd90a96-b201-4cac-915e-afe5509c3f92",
   "metadata": {},
   "outputs": [
    {
     "data": {
      "text/html": [
       "<div>\n",
       "<style scoped>\n",
       "    .dataframe tbody tr th:only-of-type {\n",
       "        vertical-align: middle;\n",
       "    }\n",
       "\n",
       "    .dataframe tbody tr th {\n",
       "        vertical-align: top;\n",
       "    }\n",
       "\n",
       "    .dataframe thead th {\n",
       "        text-align: right;\n",
       "    }\n",
       "</style>\n",
       "<table border=\"1\" class=\"dataframe\">\n",
       "  <thead>\n",
       "    <tr style=\"text-align: right;\">\n",
       "      <th></th>\n",
       "      <th>user_id</th>\n",
       "      <th>creation_time</th>\n",
       "      <th>name</th>\n",
       "      <th>email</th>\n",
       "      <th>creation_source</th>\n",
       "      <th>last_session_creation_time</th>\n",
       "      <th>opted_in_to_mailing_list</th>\n",
       "      <th>enabled_for_marketing_drip</th>\n",
       "      <th>org_id</th>\n",
       "      <th>invited_by_user_id</th>\n",
       "    </tr>\n",
       "  </thead>\n",
       "  <tbody>\n",
       "    <tr>\n",
       "      <th>0</th>\n",
       "      <td>1</td>\n",
       "      <td>2014-04-22 03:53:30</td>\n",
       "      <td>Clausen August</td>\n",
       "      <td>AugustCClausen@yahoo.com</td>\n",
       "      <td>GUEST_INVITE</td>\n",
       "      <td>1.398139e+09</td>\n",
       "      <td>1</td>\n",
       "      <td>0</td>\n",
       "      <td>11</td>\n",
       "      <td>10803.0</td>\n",
       "    </tr>\n",
       "    <tr>\n",
       "      <th>1</th>\n",
       "      <td>2</td>\n",
       "      <td>2013-11-15 03:45:04</td>\n",
       "      <td>Poole Matthew</td>\n",
       "      <td>MatthewPoole@gustr.com</td>\n",
       "      <td>ORG_INVITE</td>\n",
       "      <td>1.396238e+09</td>\n",
       "      <td>0</td>\n",
       "      <td>0</td>\n",
       "      <td>1</td>\n",
       "      <td>316.0</td>\n",
       "    </tr>\n",
       "    <tr>\n",
       "      <th>2</th>\n",
       "      <td>3</td>\n",
       "      <td>2013-03-19 23:14:52</td>\n",
       "      <td>Bottrill Mitchell</td>\n",
       "      <td>MitchellBottrill@gustr.com</td>\n",
       "      <td>ORG_INVITE</td>\n",
       "      <td>1.363735e+09</td>\n",
       "      <td>0</td>\n",
       "      <td>0</td>\n",
       "      <td>94</td>\n",
       "      <td>1525.0</td>\n",
       "    </tr>\n",
       "    <tr>\n",
       "      <th>3</th>\n",
       "      <td>4</td>\n",
       "      <td>2013-05-21 08:09:28</td>\n",
       "      <td>Clausen Nicklas</td>\n",
       "      <td>NicklasSClausen@yahoo.com</td>\n",
       "      <td>GUEST_INVITE</td>\n",
       "      <td>1.369210e+09</td>\n",
       "      <td>0</td>\n",
       "      <td>0</td>\n",
       "      <td>1</td>\n",
       "      <td>5151.0</td>\n",
       "    </tr>\n",
       "    <tr>\n",
       "      <th>4</th>\n",
       "      <td>5</td>\n",
       "      <td>2013-01-17 10:14:20</td>\n",
       "      <td>Raw Grace</td>\n",
       "      <td>GraceRaw@yahoo.com</td>\n",
       "      <td>GUEST_INVITE</td>\n",
       "      <td>1.358850e+09</td>\n",
       "      <td>0</td>\n",
       "      <td>0</td>\n",
       "      <td>193</td>\n",
       "      <td>5240.0</td>\n",
       "    </tr>\n",
       "  </tbody>\n",
       "</table>\n",
       "</div>"
      ],
      "text/plain": [
       "   user_id       creation_time               name                       email  \\\n",
       "0        1 2014-04-22 03:53:30     Clausen August    AugustCClausen@yahoo.com   \n",
       "1        2 2013-11-15 03:45:04      Poole Matthew      MatthewPoole@gustr.com   \n",
       "2        3 2013-03-19 23:14:52  Bottrill Mitchell  MitchellBottrill@gustr.com   \n",
       "3        4 2013-05-21 08:09:28    Clausen Nicklas   NicklasSClausen@yahoo.com   \n",
       "4        5 2013-01-17 10:14:20          Raw Grace          GraceRaw@yahoo.com   \n",
       "\n",
       "  creation_source  last_session_creation_time  opted_in_to_mailing_list  \\\n",
       "0    GUEST_INVITE                1.398139e+09                         1   \n",
       "1      ORG_INVITE                1.396238e+09                         0   \n",
       "2      ORG_INVITE                1.363735e+09                         0   \n",
       "3    GUEST_INVITE                1.369210e+09                         0   \n",
       "4    GUEST_INVITE                1.358850e+09                         0   \n",
       "\n",
       "   enabled_for_marketing_drip  org_id  invited_by_user_id  \n",
       "0                           0      11             10803.0  \n",
       "1                           0       1               316.0  \n",
       "2                           0      94              1525.0  \n",
       "3                           0       1              5151.0  \n",
       "4                           0     193              5240.0  "
      ]
     },
     "execution_count": 122,
     "metadata": {},
     "output_type": "execute_result"
    }
   ],
   "source": [
    "df_users.head()"
   ]
  },
  {
   "cell_type": "code",
   "execution_count": 124,
   "id": "078caa68-bd4c-4747-bbad-57c5af27eba1",
   "metadata": {},
   "outputs": [
    {
     "data": {
      "text/plain": [
       "user_id                          0\n",
       "creation_time                    0\n",
       "name                             0\n",
       "email                            0\n",
       "creation_source                  0\n",
       "last_session_creation_time    3177\n",
       "opted_in_to_mailing_list         0\n",
       "enabled_for_marketing_drip       0\n",
       "org_id                           0\n",
       "invited_by_user_id            5583\n",
       "dtype: int64"
      ]
     },
     "execution_count": 124,
     "metadata": {},
     "output_type": "execute_result"
    }
   ],
   "source": [
    "# check for missing data in the users df\n",
    "df_users.isna().sum()"
   ]
  },
  {
   "cell_type": "code",
   "execution_count": 126,
   "id": "0fc4af01-2469-41f1-98a1-e59cf9454194",
   "metadata": {},
   "outputs": [],
   "source": [
    "# Missing values so far.....\n",
    "# invited_by_user_id has lots of missing data, we can assume that this user signed up without a guest invitation\n",
    "# last_session_creation_time means only one sign on, can be replaced with creation_time"
   ]
  },
  {
   "cell_type": "markdown",
   "id": "b9fc504e-b142-43d9-90cf-32d30acb58d7",
   "metadata": {},
   "source": [
    "### EDA"
   ]
  },
  {
   "cell_type": "code",
   "execution_count": 129,
   "id": "dedfb7e3-2084-427b-b121-f4e5788c316f",
   "metadata": {},
   "outputs": [
    {
     "data": {
      "text/plain": [
       "creation_source\n",
       "ORG_INVITE            4254\n",
       "GUEST_INVITE          2163\n",
       "PERSONAL_PROJECTS     2111\n",
       "SIGNUP                2087\n",
       "SIGNUP_GOOGLE_AUTH    1385\n",
       "Name: count, dtype: int64"
      ]
     },
     "execution_count": 129,
     "metadata": {},
     "output_type": "execute_result"
    }
   ],
   "source": [
    "# explore where users signed up from\n",
    "df_users.creation_source.value_counts()"
   ]
  },
  {
   "cell_type": "code",
   "execution_count": 131,
   "id": "b5685b98-74a9-4cec-9839-e854f05d8885",
   "metadata": {},
   "outputs": [
    {
     "data": {
      "text/plain": [
       "([0, 1, 2, 3, 4],\n",
       " [Text(0, 0, 'GUEST_INVITE'),\n",
       "  Text(1, 0, 'ORG_INVITE'),\n",
       "  Text(2, 0, 'SIGNUP'),\n",
       "  Text(3, 0, 'PERSONAL_PROJECTS'),\n",
       "  Text(4, 0, 'SIGNUP_GOOGLE_AUTH')])"
      ]
     },
     "execution_count": 131,
     "metadata": {},
     "output_type": "execute_result"
    },
    {
     "data": {
      "image/png": "[encoded data removed]",
      "text/plain": [
       "<Figure size 640x480 with 1 Axes>"
      ]
     },
     "metadata": {},
     "output_type": "display_data"
    }
   ],
   "source": [
    "# plot creation source\n",
    "\n",
    "sns.histplot(data = df_users, x='creation_source')\n",
    "plt.xticks(rotation =25)"
   ]
  },
  {
   "cell_type": "code",
   "execution_count": 133,
   "id": "11d80e96-d269-4688-920f-b178a59a1d72",
   "metadata": {},
   "outputs": [
    {
     "data": {
      "text/plain": [
       "opted_in_to_mailing_list\n",
       "0    9006\n",
       "1    2994\n",
       "Name: count, dtype: int64"
      ]
     },
     "execution_count": 133,
     "metadata": {},
     "output_type": "execute_result"
    }
   ],
   "source": [
    "# explore if users opted in to mailing list for funsies\n",
    "df_users.opted_in_to_mailing_list.value_counts()"
   ]
  },
  {
   "cell_type": "code",
   "execution_count": 135,
   "id": "ae1e09c3-63a8-487e-94e4-90417d96b666",
   "metadata": {},
   "outputs": [
    {
     "data": {
      "text/plain": [
       "(array([-0.2,  0. ,  0.2,  0.4,  0.6,  0.8,  1. ,  1.2]),\n",
       " [Text(-0.2, 0, '−0.2'),\n",
       "  Text(0.0, 0, '0.0'),\n",
       "  Text(0.2, 0, '0.2'),\n",
       "  Text(0.4000000000000001, 0, '0.4'),\n",
       "  Text(0.6000000000000001, 0, '0.6'),\n",
       "  Text(0.8, 0, '0.8'),\n",
       "  Text(1.0000000000000002, 0, '1.0'),\n",
       "  Text(1.2000000000000002, 0, '1.2')])"
      ]
     },
     "execution_count": 135,
     "metadata": {},
     "output_type": "execute_result"
    },
    {
     "data": {
      "image/png": "[encoded data removed]",
      "text/plain": [
       "<Figure size 640x480 with 1 Axes>"
      ]
     },
     "metadata": {},
     "output_type": "display_data"
    }
   ],
   "source": [
    "# plot opt in to junk mail\n",
    "\n",
    "sns.histplot(data = df_users, x='opted_in_to_mailing_list')\n",
    "plt.xticks(rotation =25)"
   ]
  },
  {
   "cell_type": "code",
   "execution_count": 136,
   "id": "ee184405-58e6-44e8-8dee-a09172d5888c",
   "metadata": {},
   "outputs": [],
   "source": [
    "# huge number opted to NOT get junk mail"
   ]
  },
  {
   "cell_type": "code",
   "execution_count": 139,
   "id": "eb8a5abe-5a61-4aae-a608-8f1ba584e8df",
   "metadata": {},
   "outputs": [
    {
     "data": {
      "text/plain": [
       "time_stamp\n",
       "2012-05-31      4\n",
       "2012-06-01      6\n",
       "2012-06-02      9\n",
       "2012-06-03     11\n",
       "2012-06-04     11\n",
       "             ... \n",
       "2014-06-01    450\n",
       "2014-06-02    404\n",
       "2014-06-03    398\n",
       "2014-06-04    373\n",
       "2014-06-06      1\n",
       "Name: user_id, Length: 736, dtype: int64"
      ]
     },
     "execution_count": 139,
     "metadata": {},
     "output_type": "execute_result"
    }
   ],
   "source": [
    "# Number of user id's logged in per day\n",
    "df_engagement.groupby(df_engagement.time_stamp.dt.date)['user_id'].count()"
   ]
  },
  {
   "cell_type": "code",
   "execution_count": 141,
   "id": "42d8038f-87dc-4748-8fec-2dfe52d28bb8",
   "metadata": {},
   "outputs": [
    {
     "data": {
      "text/html": [
       "<div>\n",
       "<style scoped>\n",
       "    .dataframe tbody tr th:only-of-type {\n",
       "        vertical-align: middle;\n",
       "    }\n",
       "\n",
       "    .dataframe tbody tr th {\n",
       "        vertical-align: top;\n",
       "    }\n",
       "\n",
       "    .dataframe thead th {\n",
       "        text-align: right;\n",
       "    }\n",
       "</style>\n",
       "<table border=\"1\" class=\"dataframe\">\n",
       "  <thead>\n",
       "    <tr style=\"text-align: right;\">\n",
       "      <th></th>\n",
       "      <th>time_stamp</th>\n",
       "      <th>user_id</th>\n",
       "      <th>visited</th>\n",
       "    </tr>\n",
       "  </thead>\n",
       "  <tbody>\n",
       "    <tr>\n",
       "      <th>0</th>\n",
       "      <td>2012-05-31 08:20:06</td>\n",
       "      <td>10012</td>\n",
       "      <td>1</td>\n",
       "    </tr>\n",
       "    <tr>\n",
       "      <th>1</th>\n",
       "      <td>2012-05-31 15:47:36</td>\n",
       "      <td>3428</td>\n",
       "      <td>1</td>\n",
       "    </tr>\n",
       "    <tr>\n",
       "      <th>2</th>\n",
       "      <td>2012-05-31 17:19:37</td>\n",
       "      <td>9899</td>\n",
       "      <td>1</td>\n",
       "    </tr>\n",
       "    <tr>\n",
       "      <th>3</th>\n",
       "      <td>2012-05-31 21:58:33</td>\n",
       "      <td>1693</td>\n",
       "      <td>1</td>\n",
       "    </tr>\n",
       "    <tr>\n",
       "      <th>4</th>\n",
       "      <td>2012-06-01 00:17:30</td>\n",
       "      <td>6102</td>\n",
       "      <td>1</td>\n",
       "    </tr>\n",
       "  </tbody>\n",
       "</table>\n",
       "</div>"
      ],
      "text/plain": [
       "           time_stamp  user_id  visited\n",
       "0 2012-05-31 08:20:06    10012        1\n",
       "1 2012-05-31 15:47:36     3428        1\n",
       "2 2012-05-31 17:19:37     9899        1\n",
       "3 2012-05-31 21:58:33     1693        1\n",
       "4 2012-06-01 00:17:30     6102        1"
      ]
     },
     "execution_count": 141,
     "metadata": {},
     "output_type": "execute_result"
    }
   ],
   "source": [
    "# sorting to see what time, which user, and how many times the user visited\n",
    "\n",
    "df_engagement_sorted = df_engagement.sort_values(by=['time_stamp'], axis = 0, ascending = True)\n",
    "df_engagement_sorted = df_engagement_sorted.reset_index(drop=True)\n",
    "df_engagement_sorted.head()"
   ]
  },
  {
   "cell_type": "code",
   "execution_count": 143,
   "id": "cb00881b-ea79-4403-b402-625761724b41",
   "metadata": {},
   "outputs": [],
   "source": [
    "# clean up the time stamp to limit it just the date\n",
    "#  transform the time_stamp from precise, chronologically ordered login events into a date grouped by calendar date\n",
    "# with user IDs sorted within each date. \n",
    "# result is to focuses the view on daily activity rather than timestamped activity"
   ]
  },
  {
   "cell_type": "code",
   "execution_count": 145,
   "id": "97facfdc-3077-480b-a4ff-5e2bf134fbd1",
   "metadata": {},
   "outputs": [],
   "source": [
    "df_engagement_sorted.time_stamp = df_engagement_sorted.time_stamp.dt.date"
   ]
  },
  {
   "cell_type": "code",
   "execution_count": 147,
   "id": "502a3c75-50d4-4bfb-8287-4de3a08822c9",
   "metadata": {},
   "outputs": [],
   "source": [
    "df_engagement_sorted.sort_values(by=['time_stamp', 'user_id'], inplace=True)"
   ]
  },
  {
   "cell_type": "code",
   "execution_count": 149,
   "id": "45e41519-d82d-4fc0-ac58-feccb458b9bf",
   "metadata": {},
   "outputs": [
    {
     "data": {
      "text/html": [
       "<div>\n",
       "<style scoped>\n",
       "    .dataframe tbody tr th:only-of-type {\n",
       "        vertical-align: middle;\n",
       "    }\n",
       "\n",
       "    .dataframe tbody tr th {\n",
       "        vertical-align: top;\n",
       "    }\n",
       "\n",
       "    .dataframe thead th {\n",
       "        text-align: right;\n",
       "    }\n",
       "</style>\n",
       "<table border=\"1\" class=\"dataframe\">\n",
       "  <thead>\n",
       "    <tr style=\"text-align: right;\">\n",
       "      <th></th>\n",
       "      <th>time_stamp</th>\n",
       "      <th>user_id</th>\n",
       "      <th>visited</th>\n",
       "    </tr>\n",
       "  </thead>\n",
       "  <tbody>\n",
       "    <tr>\n",
       "      <th>3</th>\n",
       "      <td>2012-05-31</td>\n",
       "      <td>1693</td>\n",
       "      <td>1</td>\n",
       "    </tr>\n",
       "    <tr>\n",
       "      <th>1</th>\n",
       "      <td>2012-05-31</td>\n",
       "      <td>3428</td>\n",
       "      <td>1</td>\n",
       "    </tr>\n",
       "    <tr>\n",
       "      <th>2</th>\n",
       "      <td>2012-05-31</td>\n",
       "      <td>9899</td>\n",
       "      <td>1</td>\n",
       "    </tr>\n",
       "    <tr>\n",
       "      <th>0</th>\n",
       "      <td>2012-05-31</td>\n",
       "      <td>10012</td>\n",
       "      <td>1</td>\n",
       "    </tr>\n",
       "    <tr>\n",
       "      <th>6</th>\n",
       "      <td>2012-06-01</td>\n",
       "      <td>1995</td>\n",
       "      <td>1</td>\n",
       "    </tr>\n",
       "    <tr>\n",
       "      <th>4</th>\n",
       "      <td>2012-06-01</td>\n",
       "      <td>6102</td>\n",
       "      <td>1</td>\n",
       "    </tr>\n",
       "    <tr>\n",
       "      <th>8</th>\n",
       "      <td>2012-06-01</td>\n",
       "      <td>8068</td>\n",
       "      <td>1</td>\n",
       "    </tr>\n",
       "    <tr>\n",
       "      <th>7</th>\n",
       "      <td>2012-06-01</td>\n",
       "      <td>10163</td>\n",
       "      <td>1</td>\n",
       "    </tr>\n",
       "    <tr>\n",
       "      <th>9</th>\n",
       "      <td>2012-06-01</td>\n",
       "      <td>10922</td>\n",
       "      <td>1</td>\n",
       "    </tr>\n",
       "    <tr>\n",
       "      <th>5</th>\n",
       "      <td>2012-06-01</td>\n",
       "      <td>11430</td>\n",
       "      <td>1</td>\n",
       "    </tr>\n",
       "    <tr>\n",
       "      <th>18</th>\n",
       "      <td>2012-06-02</td>\n",
       "      <td>2120</td>\n",
       "      <td>1</td>\n",
       "    </tr>\n",
       "    <tr>\n",
       "      <th>10</th>\n",
       "      <td>2012-06-02</td>\n",
       "      <td>3514</td>\n",
       "      <td>1</td>\n",
       "    </tr>\n",
       "    <tr>\n",
       "      <th>14</th>\n",
       "      <td>2012-06-02</td>\n",
       "      <td>3721</td>\n",
       "      <td>1</td>\n",
       "    </tr>\n",
       "    <tr>\n",
       "      <th>12</th>\n",
       "      <td>2012-06-02</td>\n",
       "      <td>4584</td>\n",
       "      <td>1</td>\n",
       "    </tr>\n",
       "    <tr>\n",
       "      <th>11</th>\n",
       "      <td>2012-06-02</td>\n",
       "      <td>7170</td>\n",
       "      <td>1</td>\n",
       "    </tr>\n",
       "  </tbody>\n",
       "</table>\n",
       "</div>"
      ],
      "text/plain": [
       "    time_stamp  user_id  visited\n",
       "3   2012-05-31     1693        1\n",
       "1   2012-05-31     3428        1\n",
       "2   2012-05-31     9899        1\n",
       "0   2012-05-31    10012        1\n",
       "6   2012-06-01     1995        1\n",
       "4   2012-06-01     6102        1\n",
       "8   2012-06-01     8068        1\n",
       "7   2012-06-01    10163        1\n",
       "9   2012-06-01    10922        1\n",
       "5   2012-06-01    11430        1\n",
       "18  2012-06-02     2120        1\n",
       "10  2012-06-02     3514        1\n",
       "14  2012-06-02     3721        1\n",
       "12  2012-06-02     4584        1\n",
       "11  2012-06-02     7170        1"
      ]
     },
     "execution_count": 149,
     "metadata": {},
     "output_type": "execute_result"
    }
   ],
   "source": [
    "df_engagement_sorted.head(15)"
   ]
  },
  {
   "cell_type": "code",
   "execution_count": 151,
   "id": "e2cf1ce4-aab1-4e8f-9189-7486127bd607",
   "metadata": {},
   "outputs": [
    {
     "data": {
      "text/plain": [
       "time_stamp    object\n",
       "user_id        int64\n",
       "visited        int64\n",
       "dtype: object"
      ]
     },
     "execution_count": 151,
     "metadata": {},
     "output_type": "execute_result"
    }
   ],
   "source": [
    "# check the types of the newly sorted df\n",
    "df_engagement_sorted.dtypes"
   ]
  },
  {
   "cell_type": "code",
   "execution_count": 153,
   "id": "cba6fd00-b323-4433-a00e-93ebf350e250",
   "metadata": {},
   "outputs": [],
   "source": [
    "# preprocess df_engagement_sorted again to ensure that the time_stamp is compatible with the merge\n",
    "\n",
    "df_eng_sorted.time_stamp = pd.to_datetime(df_eng_sorted.time_stamp, format = '%Y-%m-%d')"
   ]
  },
  {
   "cell_type": "code",
   "execution_count": 155,
   "id": "2aef4a8a-b8da-4846-b526-98292ce50deb",
   "metadata": {},
   "outputs": [],
   "source": [
    "# Function to show adopted users\n",
    "# reminder: adopted user is a user who has logged in at least 3 times within a 7 day window\n",
    "\n",
    "def is_adopted(eng_df):\n",
    "    # Get time range of engagement dataframe\n",
    "    start, end = eng_df.time_stamp.min(), eng_df.time_stamp.max()\n",
    "    # Create data frame of date range\n",
    "    dates = pd.date_range(start, end).to_frame(index=False, name='time_stamp')\n",
    "    # merge dates and engagement data frame\n",
    "    df_adopted = dates.merge(eng_df, on='time_stamp', how='left').fillna(0)\n",
    "    # Check for 3 engagements within a 7 day rolling window\n",
    "    return df_adopted['visited'].rolling(7).sum().max() >= 3"
   ]
  },
  {
   "cell_type": "code",
   "execution_count": 159,
   "id": "360d00c8-b7a8-4f63-b4b8-89b624d7b022",
   "metadata": {},
   "outputs": [
    {
     "data": {
      "text/html": [
       "<div>\n",
       "<style scoped>\n",
       "    .dataframe tbody tr th:only-of-type {\n",
       "        vertical-align: middle;\n",
       "    }\n",
       "\n",
       "    .dataframe tbody tr th {\n",
       "        vertical-align: top;\n",
       "    }\n",
       "\n",
       "    .dataframe thead th {\n",
       "        text-align: right;\n",
       "    }\n",
       "</style>\n",
       "<table border=\"1\" class=\"dataframe\">\n",
       "  <thead>\n",
       "    <tr style=\"text-align: right;\">\n",
       "      <th></th>\n",
       "      <th>user_id</th>\n",
       "      <th>adopted_user</th>\n",
       "    </tr>\n",
       "  </thead>\n",
       "  <tbody>\n",
       "    <tr>\n",
       "      <th>0</th>\n",
       "      <td>1</td>\n",
       "      <td>False</td>\n",
       "    </tr>\n",
       "    <tr>\n",
       "      <th>1</th>\n",
       "      <td>2</td>\n",
       "      <td>True</td>\n",
       "    </tr>\n",
       "    <tr>\n",
       "      <th>2</th>\n",
       "      <td>3</td>\n",
       "      <td>False</td>\n",
       "    </tr>\n",
       "    <tr>\n",
       "      <th>3</th>\n",
       "      <td>4</td>\n",
       "      <td>False</td>\n",
       "    </tr>\n",
       "    <tr>\n",
       "      <th>4</th>\n",
       "      <td>5</td>\n",
       "      <td>False</td>\n",
       "    </tr>\n",
       "    <tr>\n",
       "      <th>5</th>\n",
       "      <td>6</td>\n",
       "      <td>False</td>\n",
       "    </tr>\n",
       "    <tr>\n",
       "      <th>6</th>\n",
       "      <td>7</td>\n",
       "      <td>False</td>\n",
       "    </tr>\n",
       "    <tr>\n",
       "      <th>7</th>\n",
       "      <td>10</td>\n",
       "      <td>True</td>\n",
       "    </tr>\n",
       "    <tr>\n",
       "      <th>8</th>\n",
       "      <td>11</td>\n",
       "      <td>False</td>\n",
       "    </tr>\n",
       "    <tr>\n",
       "      <th>9</th>\n",
       "      <td>13</td>\n",
       "      <td>False</td>\n",
       "    </tr>\n",
       "  </tbody>\n",
       "</table>\n",
       "</div>"
      ],
      "text/plain": [
       "   user_id  adopted_user\n",
       "0        1         False\n",
       "1        2          True\n",
       "2        3         False\n",
       "3        4         False\n",
       "4        5         False\n",
       "5        6         False\n",
       "6        7         False\n",
       "7       10          True\n",
       "8       11         False\n",
       "9       13         False"
      ]
     },
     "execution_count": 159,
     "metadata": {},
     "output_type": "execute_result"
    }
   ],
   "source": [
    "# go through all the users\n",
    "# checks each one using specific activity rule\n",
    "# gives you a final list showing who passed the check (is 'adopted') and who didn't\n",
    "adopted_users = df_eng_sorted.groupby('user_id').apply(is_adopted, include_groups=False ).reset_index(name='adopted_user')\n",
    "adopted_users.head(10)"
   ]
  },
  {
   "cell_type": "code",
   "execution_count": 160,
   "id": "79140925-ff27-46b6-aa7b-c90570db1f17",
   "metadata": {},
   "outputs": [
    {
     "data": {
      "text/plain": [
       "0       0\n",
       "1       1\n",
       "2       0\n",
       "3       0\n",
       "4       0\n",
       "       ..\n",
       "8818    0\n",
       "8819    0\n",
       "8820    0\n",
       "8821    0\n",
       "8822    0\n",
       "Name: adopted_user, Length: 8823, dtype: int64"
      ]
     },
     "execution_count": 160,
     "metadata": {},
     "output_type": "execute_result"
    }
   ],
   "source": [
    "# convert the True / False to a numeric value\n",
    "adopted_users.adopted_user.astype(int)"
   ]
  },
  {
   "cell_type": "code",
   "execution_count": 165,
   "id": "6bf8f93b-7d02-488f-8662-db7c9ce433cb",
   "metadata": {},
   "outputs": [],
   "source": [
    "# merge the two datasets\n",
    "# using outer merge because want to keep all rows from both\n",
    "\n",
    "df_merged = pd.merge(df_users, adopted_users, on='user_id', how='outer')"
   ]
  },
  {
   "cell_type": "code",
   "execution_count": 167,
   "id": "9cdd58a0-4c6d-472f-90c7-a2d63983b51a",
   "metadata": {},
   "outputs": [
    {
     "data": {
      "text/html": [
       "<div>\n",
       "<style scoped>\n",
       "    .dataframe tbody tr th:only-of-type {\n",
       "        vertical-align: middle;\n",
       "    }\n",
       "\n",
       "    .dataframe tbody tr th {\n",
       "        vertical-align: top;\n",
       "    }\n",
       "\n",
       "    .dataframe thead th {\n",
       "        text-align: right;\n",
       "    }\n",
       "</style>\n",
       "<table border=\"1\" class=\"dataframe\">\n",
       "  <thead>\n",
       "    <tr style=\"text-align: right;\">\n",
       "      <th></th>\n",
       "      <th>user_id</th>\n",
       "      <th>creation_time</th>\n",
       "      <th>name</th>\n",
       "      <th>email</th>\n",
       "      <th>creation_source</th>\n",
       "      <th>last_session_creation_time</th>\n",
       "      <th>opted_in_to_mailing_list</th>\n",
       "      <th>enabled_for_marketing_drip</th>\n",
       "      <th>org_id</th>\n",
       "      <th>invited_by_user_id</th>\n",
       "      <th>adopted_user</th>\n",
       "    </tr>\n",
       "  </thead>\n",
       "  <tbody>\n",
       "    <tr>\n",
       "      <th>0</th>\n",
       "      <td>1</td>\n",
       "      <td>2014-04-22 03:53:30</td>\n",
       "      <td>Clausen August</td>\n",
       "      <td>AugustCClausen@yahoo.com</td>\n",
       "      <td>GUEST_INVITE</td>\n",
       "      <td>1.398139e+09</td>\n",
       "      <td>1</td>\n",
       "      <td>0</td>\n",
       "      <td>11</td>\n",
       "      <td>10803.0</td>\n",
       "      <td>False</td>\n",
       "    </tr>\n",
       "    <tr>\n",
       "      <th>1</th>\n",
       "      <td>2</td>\n",
       "      <td>2013-11-15 03:45:04</td>\n",
       "      <td>Poole Matthew</td>\n",
       "      <td>MatthewPoole@gustr.com</td>\n",
       "      <td>ORG_INVITE</td>\n",
       "      <td>1.396238e+09</td>\n",
       "      <td>0</td>\n",
       "      <td>0</td>\n",
       "      <td>1</td>\n",
       "      <td>316.0</td>\n",
       "      <td>True</td>\n",
       "    </tr>\n",
       "    <tr>\n",
       "      <th>2</th>\n",
       "      <td>3</td>\n",
       "      <td>2013-03-19 23:14:52</td>\n",
       "      <td>Bottrill Mitchell</td>\n",
       "      <td>MitchellBottrill@gustr.com</td>\n",
       "      <td>ORG_INVITE</td>\n",
       "      <td>1.363735e+09</td>\n",
       "      <td>0</td>\n",
       "      <td>0</td>\n",
       "      <td>94</td>\n",
       "      <td>1525.0</td>\n",
       "      <td>False</td>\n",
       "    </tr>\n",
       "    <tr>\n",
       "      <th>3</th>\n",
       "      <td>4</td>\n",
       "      <td>2013-05-21 08:09:28</td>\n",
       "      <td>Clausen Nicklas</td>\n",
       "      <td>NicklasSClausen@yahoo.com</td>\n",
       "      <td>GUEST_INVITE</td>\n",
       "      <td>1.369210e+09</td>\n",
       "      <td>0</td>\n",
       "      <td>0</td>\n",
       "      <td>1</td>\n",
       "      <td>5151.0</td>\n",
       "      <td>False</td>\n",
       "    </tr>\n",
       "    <tr>\n",
       "      <th>4</th>\n",
       "      <td>5</td>\n",
       "      <td>2013-01-17 10:14:20</td>\n",
       "      <td>Raw Grace</td>\n",
       "      <td>GraceRaw@yahoo.com</td>\n",
       "      <td>GUEST_INVITE</td>\n",
       "      <td>1.358850e+09</td>\n",
       "      <td>0</td>\n",
       "      <td>0</td>\n",
       "      <td>193</td>\n",
       "      <td>5240.0</td>\n",
       "      <td>False</td>\n",
       "    </tr>\n",
       "    <tr>\n",
       "      <th>5</th>\n",
       "      <td>6</td>\n",
       "      <td>2013-12-17 03:37:06</td>\n",
       "      <td>Cunha Eduardo</td>\n",
       "      <td>EduardoPereiraCunha@yahoo.com</td>\n",
       "      <td>GUEST_INVITE</td>\n",
       "      <td>1.387424e+09</td>\n",
       "      <td>0</td>\n",
       "      <td>0</td>\n",
       "      <td>197</td>\n",
       "      <td>11241.0</td>\n",
       "      <td>False</td>\n",
       "    </tr>\n",
       "    <tr>\n",
       "      <th>6</th>\n",
       "      <td>7</td>\n",
       "      <td>2012-12-16 13:24:32</td>\n",
       "      <td>Sewell Tyler</td>\n",
       "      <td>TylerSewell@jourrapide.com</td>\n",
       "      <td>SIGNUP</td>\n",
       "      <td>1.356010e+09</td>\n",
       "      <td>0</td>\n",
       "      <td>1</td>\n",
       "      <td>37</td>\n",
       "      <td>NaN</td>\n",
       "      <td>False</td>\n",
       "    </tr>\n",
       "    <tr>\n",
       "      <th>7</th>\n",
       "      <td>8</td>\n",
       "      <td>2013-07-31 05:34:02</td>\n",
       "      <td>Hamilton Danielle</td>\n",
       "      <td>DanielleHamilton@yahoo.com</td>\n",
       "      <td>PERSONAL_PROJECTS</td>\n",
       "      <td>NaN</td>\n",
       "      <td>1</td>\n",
       "      <td>1</td>\n",
       "      <td>74</td>\n",
       "      <td>NaN</td>\n",
       "      <td>NaN</td>\n",
       "    </tr>\n",
       "    <tr>\n",
       "      <th>8</th>\n",
       "      <td>9</td>\n",
       "      <td>2013-11-05 04:04:24</td>\n",
       "      <td>Amsel Paul</td>\n",
       "      <td>PaulAmsel@hotmail.com</td>\n",
       "      <td>PERSONAL_PROJECTS</td>\n",
       "      <td>NaN</td>\n",
       "      <td>0</td>\n",
       "      <td>0</td>\n",
       "      <td>302</td>\n",
       "      <td>NaN</td>\n",
       "      <td>NaN</td>\n",
       "    </tr>\n",
       "    <tr>\n",
       "      <th>9</th>\n",
       "      <td>10</td>\n",
       "      <td>2013-01-16 22:08:03</td>\n",
       "      <td>Santos Carla</td>\n",
       "      <td>CarlaFerreiraSantos@gustr.com</td>\n",
       "      <td>ORG_INVITE</td>\n",
       "      <td>1.401833e+09</td>\n",
       "      <td>1</td>\n",
       "      <td>1</td>\n",
       "      <td>318</td>\n",
       "      <td>4143.0</td>\n",
       "      <td>True</td>\n",
       "    </tr>\n",
       "    <tr>\n",
       "      <th>10</th>\n",
       "      <td>11</td>\n",
       "      <td>2013-12-26 03:55:54</td>\n",
       "      <td>Paulsen Malthe</td>\n",
       "      <td>MaltheAPaulsen@gustr.com</td>\n",
       "      <td>SIGNUP</td>\n",
       "      <td>1.388117e+09</td>\n",
       "      <td>0</td>\n",
       "      <td>0</td>\n",
       "      <td>69</td>\n",
       "      <td>NaN</td>\n",
       "      <td>False</td>\n",
       "    </tr>\n",
       "    <tr>\n",
       "      <th>11</th>\n",
       "      <td>12</td>\n",
       "      <td>2014-04-17 23:48:38</td>\n",
       "      <td>Mathiesen Lærke</td>\n",
       "      <td>LaerkeLMathiesen@cuvox.de</td>\n",
       "      <td>ORG_INVITE</td>\n",
       "      <td>NaN</td>\n",
       "      <td>0</td>\n",
       "      <td>0</td>\n",
       "      <td>130</td>\n",
       "      <td>9270.0</td>\n",
       "      <td>NaN</td>\n",
       "    </tr>\n",
       "    <tr>\n",
       "      <th>12</th>\n",
       "      <td>13</td>\n",
       "      <td>2014-03-30 16:19:38</td>\n",
       "      <td>Fry Alexander</td>\n",
       "      <td>AlexanderDFry@cuvox.de</td>\n",
       "      <td>ORG_INVITE</td>\n",
       "      <td>1.396196e+09</td>\n",
       "      <td>0</td>\n",
       "      <td>0</td>\n",
       "      <td>254</td>\n",
       "      <td>11204.0</td>\n",
       "      <td>False</td>\n",
       "    </tr>\n",
       "    <tr>\n",
       "      <th>13</th>\n",
       "      <td>14</td>\n",
       "      <td>2012-10-11 16:14:33</td>\n",
       "      <td>Rivera Bret</td>\n",
       "      <td>BretKRivera@gmail.com</td>\n",
       "      <td>SIGNUP</td>\n",
       "      <td>1.350058e+09</td>\n",
       "      <td>0</td>\n",
       "      <td>0</td>\n",
       "      <td>0</td>\n",
       "      <td>NaN</td>\n",
       "      <td>False</td>\n",
       "    </tr>\n",
       "    <tr>\n",
       "      <th>14</th>\n",
       "      <td>15</td>\n",
       "      <td>2013-07-16 21:33:54</td>\n",
       "      <td>Theiss Ralf</td>\n",
       "      <td>RalfTheiss@hotmail.com</td>\n",
       "      <td>PERSONAL_PROJECTS</td>\n",
       "      <td>NaN</td>\n",
       "      <td>0</td>\n",
       "      <td>0</td>\n",
       "      <td>175</td>\n",
       "      <td>NaN</td>\n",
       "      <td>NaN</td>\n",
       "    </tr>\n",
       "  </tbody>\n",
       "</table>\n",
       "</div>"
      ],
      "text/plain": [
       "    user_id       creation_time               name  \\\n",
       "0         1 2014-04-22 03:53:30     Clausen August   \n",
       "1         2 2013-11-15 03:45:04      Poole Matthew   \n",
       "2         3 2013-03-19 23:14:52  Bottrill Mitchell   \n",
       "3         4 2013-05-21 08:09:28    Clausen Nicklas   \n",
       "4         5 2013-01-17 10:14:20          Raw Grace   \n",
       "5         6 2013-12-17 03:37:06      Cunha Eduardo   \n",
       "6         7 2012-12-16 13:24:32       Sewell Tyler   \n",
       "7         8 2013-07-31 05:34:02  Hamilton Danielle   \n",
       "8         9 2013-11-05 04:04:24         Amsel Paul   \n",
       "9        10 2013-01-16 22:08:03       Santos Carla   \n",
       "10       11 2013-12-26 03:55:54     Paulsen Malthe   \n",
       "11       12 2014-04-17 23:48:38    Mathiesen Lærke   \n",
       "12       13 2014-03-30 16:19:38      Fry Alexander   \n",
       "13       14 2012-10-11 16:14:33        Rivera Bret   \n",
       "14       15 2013-07-16 21:33:54        Theiss Ralf   \n",
       "\n",
       "                            email    creation_source  \\\n",
       "0        AugustCClausen@yahoo.com       GUEST_INVITE   \n",
       "1          MatthewPoole@gustr.com         ORG_INVITE   \n",
       "2      MitchellBottrill@gustr.com         ORG_INVITE   \n",
       "3       NicklasSClausen@yahoo.com       GUEST_INVITE   \n",
       "4              GraceRaw@yahoo.com       GUEST_INVITE   \n",
       "5   EduardoPereiraCunha@yahoo.com       GUEST_INVITE   \n",
       "6      TylerSewell@jourrapide.com             SIGNUP   \n",
       "7      DanielleHamilton@yahoo.com  PERSONAL_PROJECTS   \n",
       "8           PaulAmsel@hotmail.com  PERSONAL_PROJECTS   \n",
       "9   CarlaFerreiraSantos@gustr.com         ORG_INVITE   \n",
       "10       MaltheAPaulsen@gustr.com             SIGNUP   \n",
       "11      LaerkeLMathiesen@cuvox.de         ORG_INVITE   \n",
       "12         AlexanderDFry@cuvox.de         ORG_INVITE   \n",
       "13          BretKRivera@gmail.com             SIGNUP   \n",
       "14         RalfTheiss@hotmail.com  PERSONAL_PROJECTS   \n",
       "\n",
       "    last_session_creation_time  opted_in_to_mailing_list  \\\n",
       "0                 1.398139e+09                         1   \n",
       "1                 1.396238e+09                         0   \n",
       "2                 1.363735e+09                         0   \n",
       "3                 1.369210e+09                         0   \n",
       "4                 1.358850e+09                         0   \n",
       "5                 1.387424e+09                         0   \n",
       "6                 1.356010e+09                         0   \n",
       "7                          NaN                         1   \n",
       "8                          NaN                         0   \n",
       "9                 1.401833e+09                         1   \n",
       "10                1.388117e+09                         0   \n",
       "11                         NaN                         0   \n",
       "12                1.396196e+09                         0   \n",
       "13                1.350058e+09                         0   \n",
       "14                         NaN                         0   \n",
       "\n",
       "    enabled_for_marketing_drip  org_id  invited_by_user_id adopted_user  \n",
       "0                            0      11             10803.0        False  \n",
       "1                            0       1               316.0         True  \n",
       "2                            0      94              1525.0        False  \n",
       "3                            0       1              5151.0        False  \n",
       "4                            0     193              5240.0        False  \n",
       "5                            0     197             11241.0        False  \n",
       "6                            1      37                 NaN        False  \n",
       "7                            1      74                 NaN          NaN  \n",
       "8                            0     302                 NaN          NaN  \n",
       "9                            1     318              4143.0         True  \n",
       "10                           0      69                 NaN        False  \n",
       "11                           0     130              9270.0          NaN  \n",
       "12                           0     254             11204.0        False  \n",
       "13                           0       0                 NaN        False  \n",
       "14                           0     175                 NaN          NaN  "
      ]
     },
     "execution_count": 167,
     "metadata": {},
     "output_type": "execute_result"
    }
   ],
   "source": [
    "df_merged.head(15)"
   ]
  },
  {
   "cell_type": "code",
   "execution_count": 169,
   "id": "ca7c8bb8-2ad5-4653-92a3-49fe9c3ce25c",
   "metadata": {},
   "outputs": [
    {
     "data": {
      "text/plain": [
       "adopted_user\n",
       "False    7226\n",
       "True     1597\n",
       "Name: count, dtype: int64"
      ]
     },
     "execution_count": 169,
     "metadata": {},
     "output_type": "execute_result"
    }
   ],
   "source": [
    "# how many users were classified as 'adopted' (1) and how many were classified as 'not adopted' (0)\n",
    "df_merged.adopted_user.value_counts()"
   ]
  },
  {
   "cell_type": "code",
   "execution_count": 171,
   "id": "17076604-23d3-47ac-9240-239b049c3469",
   "metadata": {},
   "outputs": [
    {
     "data": {
      "text/plain": [
       "12000"
      ]
     },
     "execution_count": 171,
     "metadata": {},
     "output_type": "execute_result"
    }
   ],
   "source": [
    "# count how many rows in merged dataset\n",
    "len(df_merged)"
   ]
  },
  {
   "cell_type": "code",
   "execution_count": 175,
   "id": "fa42d693-6783-438a-82b9-eac68f19d58f",
   "metadata": {},
   "outputs": [
    {
     "name": "stdout",
     "output_type": "stream",
     "text": [
      "8823\n"
     ]
    }
   ],
   "source": [
    "# calculation for adopted_user total\n",
    "false = 7226\n",
    "true = 1597\n",
    "total_adopted = false + true\n",
    "print(total_adopted)"
   ]
  },
  {
   "cell_type": "code",
   "execution_count": 195,
   "id": "ab159604-958b-463f-a9eb-415d8f7019f9",
   "metadata": {},
   "outputs": [
    {
     "data": {
      "text/plain": [
       "18.100419358494843"
      ]
     },
     "execution_count": 195,
     "metadata": {},
     "output_type": "execute_result"
    }
   ],
   "source": [
    "# percent of true adopted users\n",
    "(true/total_adopted) * 100"
   ]
  },
  {
   "cell_type": "code",
   "execution_count": 199,
   "id": "013f60fc-2924-4bc8-81de-20b7e72a1fc8",
   "metadata": {},
   "outputs": [
    {
     "name": "stdout",
     "output_type": "stream",
     "text": [
      "email\n",
      "gmail.com         3562\n",
      "yahoo.com         2447\n",
      "jourrapide.com    1259\n",
      "cuvox.de          1202\n",
      "gustr.com         1179\n",
      "                  ... \n",
      "lrabg.com            1\n",
      "mrytw.com            1\n",
      "ugtav.com            1\n",
      "hqhll.com            1\n",
      "iuxiw.com            1\n",
      "Name: count, Length: 1184, dtype: int64\n"
     ]
    }
   ],
   "source": [
    "# Explore which domain did most signups come from but need to get the domains below\n",
    "# 1. Access the 'email' column\n",
    "# 2. Use '.str.split('@')' to split the email string into parts before and after '@'\n",
    "# 3. Use '.str.get(1)' to safely get the second part (the domain)\n",
    "# 4. Use '.value_counts()' to count how many times each domain appears\n",
    "\n",
    "domain_counts = df['email'].str.split('@').str.get(1).value_counts()\n",
    "print(domain_counts)"
   ]
  },
  {
   "cell_type": "code",
   "execution_count": 207,
   "id": "035eda6d-41a6-4f83-8c7e-bb2294d6a5f7",
   "metadata": {},
   "outputs": [
    {
     "name": "stdout",
     "output_type": "stream",
     "text": [
      "1184\n"
     ]
    }
   ],
   "source": [
    "# how many unique domains are there?\n",
    "unique_domain_count = df_merged['email'].str.split('@').str.get(1).nunique()\n",
    "print(unique_domain_count) \n",
    "# There are 1184 unique domainsdwith the top 5 being: gmail, yahoo, jourrapide, cuvox, gustr"
   ]
  },
  {
   "cell_type": "code",
   "execution_count": 209,
   "id": "ffab600c-7556-40c0-ab31-1de60f3f7a5b",
   "metadata": {},
   "outputs": [
    {
     "data": {
      "text/plain": [
       "invited_by_user_id\n",
       "10741.0    13\n",
       "2527.0     12\n",
       "1525.0     11\n",
       "11770.0    11\n",
       "2308.0     11\n",
       "           ..\n",
       "1390.0      1\n",
       "5445.0      1\n",
       "8526.0      1\n",
       "4695.0      1\n",
       "5450.0      1\n",
       "Name: count, Length: 2564, dtype: int64"
      ]
     },
     "execution_count": 209,
     "metadata": {},
     "output_type": "execute_result"
    }
   ],
   "source": [
    "#check invited by user counts\n",
    "df_merged.invited_by_user_id.value_counts()"
   ]
  },
  {
   "cell_type": "code",
   "execution_count": 211,
   "id": "46fd4a22-4392-42b2-a217-7d8c870f2b29",
   "metadata": {},
   "outputs": [
    {
     "data": {
      "text/plain": [
       "5583"
      ]
     },
     "execution_count": 211,
     "metadata": {},
     "output_type": "execute_result"
    }
   ],
   "source": [
    "# check missing values for invited by user\n",
    "df_merged.invited_by_user_id.isna().sum()"
   ]
  },
  {
   "cell_type": "markdown",
   "id": "c9cbaea1-a15b-4b4f-90f6-f9cbd7d83fcf",
   "metadata": {},
   "source": [
    "### Feature Engineering"
   ]
  },
  {
   "cell_type": "code",
   "execution_count": 217,
   "id": "7fb7bbcf-ddd7-4690-a68b-0ee1f8ae6bed",
   "metadata": {},
   "outputs": [],
   "source": [
    "# create a new column in your DataFrame df_merged called invited_by_user\n",
    "# creates a simple flag (True/False) column\n",
    "# np.where(...): This function checks a condition for every row.\n",
    "# df['invited_by_user_id'].isna(): condition being checked, looks at the invited_by_user_id for each user\n",
    "# returns True if it's missing (NaN) and False if it has a value (an ID).\n",
    "# sets the value to True if the user was invited\n",
    "# sets the value to False if the user was not invited\n",
    "\n",
    "df_merged['invited_by_user'] = np.where(df_merged['invited_by_user_id'].isna(), False, True)\n"
   ]
  },
  {
   "cell_type": "code",
   "execution_count": 219,
   "id": "c376f802-b59e-4ec9-8086-0ce04ae1e824",
   "metadata": {},
   "outputs": [
    {
     "data": {
      "text/html": [
       "<div>\n",
       "<style scoped>\n",
       "    .dataframe tbody tr th:only-of-type {\n",
       "        vertical-align: middle;\n",
       "    }\n",
       "\n",
       "    .dataframe tbody tr th {\n",
       "        vertical-align: top;\n",
       "    }\n",
       "\n",
       "    .dataframe thead th {\n",
       "        text-align: right;\n",
       "    }\n",
       "</style>\n",
       "<table border=\"1\" class=\"dataframe\">\n",
       "  <thead>\n",
       "    <tr style=\"text-align: right;\">\n",
       "      <th></th>\n",
       "      <th>user_id</th>\n",
       "      <th>creation_time</th>\n",
       "      <th>name</th>\n",
       "      <th>email</th>\n",
       "      <th>creation_source</th>\n",
       "      <th>last_session_creation_time</th>\n",
       "      <th>opted_in_to_mailing_list</th>\n",
       "      <th>enabled_for_marketing_drip</th>\n",
       "      <th>org_id</th>\n",
       "      <th>invited_by_user_id</th>\n",
       "      <th>adopted_user</th>\n",
       "      <th>invited_by_user</th>\n",
       "    </tr>\n",
       "  </thead>\n",
       "  <tbody>\n",
       "    <tr>\n",
       "      <th>0</th>\n",
       "      <td>1</td>\n",
       "      <td>2014-04-22 03:53:30</td>\n",
       "      <td>Clausen August</td>\n",
       "      <td>AugustCClausen@yahoo.com</td>\n",
       "      <td>GUEST_INVITE</td>\n",
       "      <td>1.398139e+09</td>\n",
       "      <td>1</td>\n",
       "      <td>0</td>\n",
       "      <td>11</td>\n",
       "      <td>10803.0</td>\n",
       "      <td>False</td>\n",
       "      <td>True</td>\n",
       "    </tr>\n",
       "    <tr>\n",
       "      <th>1</th>\n",
       "      <td>2</td>\n",
       "      <td>2013-11-15 03:45:04</td>\n",
       "      <td>Poole Matthew</td>\n",
       "      <td>MatthewPoole@gustr.com</td>\n",
       "      <td>ORG_INVITE</td>\n",
       "      <td>1.396238e+09</td>\n",
       "      <td>0</td>\n",
       "      <td>0</td>\n",
       "      <td>1</td>\n",
       "      <td>316.0</td>\n",
       "      <td>True</td>\n",
       "      <td>True</td>\n",
       "    </tr>\n",
       "    <tr>\n",
       "      <th>2</th>\n",
       "      <td>3</td>\n",
       "      <td>2013-03-19 23:14:52</td>\n",
       "      <td>Bottrill Mitchell</td>\n",
       "      <td>MitchellBottrill@gustr.com</td>\n",
       "      <td>ORG_INVITE</td>\n",
       "      <td>1.363735e+09</td>\n",
       "      <td>0</td>\n",
       "      <td>0</td>\n",
       "      <td>94</td>\n",
       "      <td>1525.0</td>\n",
       "      <td>False</td>\n",
       "      <td>True</td>\n",
       "    </tr>\n",
       "    <tr>\n",
       "      <th>3</th>\n",
       "      <td>4</td>\n",
       "      <td>2013-05-21 08:09:28</td>\n",
       "      <td>Clausen Nicklas</td>\n",
       "      <td>NicklasSClausen@yahoo.com</td>\n",
       "      <td>GUEST_INVITE</td>\n",
       "      <td>1.369210e+09</td>\n",
       "      <td>0</td>\n",
       "      <td>0</td>\n",
       "      <td>1</td>\n",
       "      <td>5151.0</td>\n",
       "      <td>False</td>\n",
       "      <td>True</td>\n",
       "    </tr>\n",
       "    <tr>\n",
       "      <th>4</th>\n",
       "      <td>5</td>\n",
       "      <td>2013-01-17 10:14:20</td>\n",
       "      <td>Raw Grace</td>\n",
       "      <td>GraceRaw@yahoo.com</td>\n",
       "      <td>GUEST_INVITE</td>\n",
       "      <td>1.358850e+09</td>\n",
       "      <td>0</td>\n",
       "      <td>0</td>\n",
       "      <td>193</td>\n",
       "      <td>5240.0</td>\n",
       "      <td>False</td>\n",
       "      <td>True</td>\n",
       "    </tr>\n",
       "    <tr>\n",
       "      <th>5</th>\n",
       "      <td>6</td>\n",
       "      <td>2013-12-17 03:37:06</td>\n",
       "      <td>Cunha Eduardo</td>\n",
       "      <td>EduardoPereiraCunha@yahoo.com</td>\n",
       "      <td>GUEST_INVITE</td>\n",
       "      <td>1.387424e+09</td>\n",
       "      <td>0</td>\n",
       "      <td>0</td>\n",
       "      <td>197</td>\n",
       "      <td>11241.0</td>\n",
       "      <td>False</td>\n",
       "      <td>True</td>\n",
       "    </tr>\n",
       "    <tr>\n",
       "      <th>6</th>\n",
       "      <td>7</td>\n",
       "      <td>2012-12-16 13:24:32</td>\n",
       "      <td>Sewell Tyler</td>\n",
       "      <td>TylerSewell@jourrapide.com</td>\n",
       "      <td>SIGNUP</td>\n",
       "      <td>1.356010e+09</td>\n",
       "      <td>0</td>\n",
       "      <td>1</td>\n",
       "      <td>37</td>\n",
       "      <td>NaN</td>\n",
       "      <td>False</td>\n",
       "      <td>False</td>\n",
       "    </tr>\n",
       "    <tr>\n",
       "      <th>7</th>\n",
       "      <td>8</td>\n",
       "      <td>2013-07-31 05:34:02</td>\n",
       "      <td>Hamilton Danielle</td>\n",
       "      <td>DanielleHamilton@yahoo.com</td>\n",
       "      <td>PERSONAL_PROJECTS</td>\n",
       "      <td>NaN</td>\n",
       "      <td>1</td>\n",
       "      <td>1</td>\n",
       "      <td>74</td>\n",
       "      <td>NaN</td>\n",
       "      <td>NaN</td>\n",
       "      <td>False</td>\n",
       "    </tr>\n",
       "    <tr>\n",
       "      <th>8</th>\n",
       "      <td>9</td>\n",
       "      <td>2013-11-05 04:04:24</td>\n",
       "      <td>Amsel Paul</td>\n",
       "      <td>PaulAmsel@hotmail.com</td>\n",
       "      <td>PERSONAL_PROJECTS</td>\n",
       "      <td>NaN</td>\n",
       "      <td>0</td>\n",
       "      <td>0</td>\n",
       "      <td>302</td>\n",
       "      <td>NaN</td>\n",
       "      <td>NaN</td>\n",
       "      <td>False</td>\n",
       "    </tr>\n",
       "    <tr>\n",
       "      <th>9</th>\n",
       "      <td>10</td>\n",
       "      <td>2013-01-16 22:08:03</td>\n",
       "      <td>Santos Carla</td>\n",
       "      <td>CarlaFerreiraSantos@gustr.com</td>\n",
       "      <td>ORG_INVITE</td>\n",
       "      <td>1.401833e+09</td>\n",
       "      <td>1</td>\n",
       "      <td>1</td>\n",
       "      <td>318</td>\n",
       "      <td>4143.0</td>\n",
       "      <td>True</td>\n",
       "      <td>True</td>\n",
       "    </tr>\n",
       "    <tr>\n",
       "      <th>10</th>\n",
       "      <td>11</td>\n",
       "      <td>2013-12-26 03:55:54</td>\n",
       "      <td>Paulsen Malthe</td>\n",
       "      <td>MaltheAPaulsen@gustr.com</td>\n",
       "      <td>SIGNUP</td>\n",
       "      <td>1.388117e+09</td>\n",
       "      <td>0</td>\n",
       "      <td>0</td>\n",
       "      <td>69</td>\n",
       "      <td>NaN</td>\n",
       "      <td>False</td>\n",
       "      <td>False</td>\n",
       "    </tr>\n",
       "    <tr>\n",
       "      <th>11</th>\n",
       "      <td>12</td>\n",
       "      <td>2014-04-17 23:48:38</td>\n",
       "      <td>Mathiesen Lærke</td>\n",
       "      <td>LaerkeLMathiesen@cuvox.de</td>\n",
       "      <td>ORG_INVITE</td>\n",
       "      <td>NaN</td>\n",
       "      <td>0</td>\n",
       "      <td>0</td>\n",
       "      <td>130</td>\n",
       "      <td>9270.0</td>\n",
       "      <td>NaN</td>\n",
       "      <td>True</td>\n",
       "    </tr>\n",
       "    <tr>\n",
       "      <th>12</th>\n",
       "      <td>13</td>\n",
       "      <td>2014-03-30 16:19:38</td>\n",
       "      <td>Fry Alexander</td>\n",
       "      <td>AlexanderDFry@cuvox.de</td>\n",
       "      <td>ORG_INVITE</td>\n",
       "      <td>1.396196e+09</td>\n",
       "      <td>0</td>\n",
       "      <td>0</td>\n",
       "      <td>254</td>\n",
       "      <td>11204.0</td>\n",
       "      <td>False</td>\n",
       "      <td>True</td>\n",
       "    </tr>\n",
       "    <tr>\n",
       "      <th>13</th>\n",
       "      <td>14</td>\n",
       "      <td>2012-10-11 16:14:33</td>\n",
       "      <td>Rivera Bret</td>\n",
       "      <td>BretKRivera@gmail.com</td>\n",
       "      <td>SIGNUP</td>\n",
       "      <td>1.350058e+09</td>\n",
       "      <td>0</td>\n",
       "      <td>0</td>\n",
       "      <td>0</td>\n",
       "      <td>NaN</td>\n",
       "      <td>False</td>\n",
       "      <td>False</td>\n",
       "    </tr>\n",
       "    <tr>\n",
       "      <th>14</th>\n",
       "      <td>15</td>\n",
       "      <td>2013-07-16 21:33:54</td>\n",
       "      <td>Theiss Ralf</td>\n",
       "      <td>RalfTheiss@hotmail.com</td>\n",
       "      <td>PERSONAL_PROJECTS</td>\n",
       "      <td>NaN</td>\n",
       "      <td>0</td>\n",
       "      <td>0</td>\n",
       "      <td>175</td>\n",
       "      <td>NaN</td>\n",
       "      <td>NaN</td>\n",
       "      <td>False</td>\n",
       "    </tr>\n",
       "  </tbody>\n",
       "</table>\n",
       "</div>"
      ],
      "text/plain": [
       "    user_id       creation_time               name  \\\n",
       "0         1 2014-04-22 03:53:30     Clausen August   \n",
       "1         2 2013-11-15 03:45:04      Poole Matthew   \n",
       "2         3 2013-03-19 23:14:52  Bottrill Mitchell   \n",
       "3         4 2013-05-21 08:09:28    Clausen Nicklas   \n",
       "4         5 2013-01-17 10:14:20          Raw Grace   \n",
       "5         6 2013-12-17 03:37:06      Cunha Eduardo   \n",
       "6         7 2012-12-16 13:24:32       Sewell Tyler   \n",
       "7         8 2013-07-31 05:34:02  Hamilton Danielle   \n",
       "8         9 2013-11-05 04:04:24         Amsel Paul   \n",
       "9        10 2013-01-16 22:08:03       Santos Carla   \n",
       "10       11 2013-12-26 03:55:54     Paulsen Malthe   \n",
       "11       12 2014-04-17 23:48:38    Mathiesen Lærke   \n",
       "12       13 2014-03-30 16:19:38      Fry Alexander   \n",
       "13       14 2012-10-11 16:14:33        Rivera Bret   \n",
       "14       15 2013-07-16 21:33:54        Theiss Ralf   \n",
       "\n",
       "                            email    creation_source  \\\n",
       "0        AugustCClausen@yahoo.com       GUEST_INVITE   \n",
       "1          MatthewPoole@gustr.com         ORG_INVITE   \n",
       "2      MitchellBottrill@gustr.com         ORG_INVITE   \n",
       "3       NicklasSClausen@yahoo.com       GUEST_INVITE   \n",
       "4              GraceRaw@yahoo.com       GUEST_INVITE   \n",
       "5   EduardoPereiraCunha@yahoo.com       GUEST_INVITE   \n",
       "6      TylerSewell@jourrapide.com             SIGNUP   \n",
       "7      DanielleHamilton@yahoo.com  PERSONAL_PROJECTS   \n",
       "8           PaulAmsel@hotmail.com  PERSONAL_PROJECTS   \n",
       "9   CarlaFerreiraSantos@gustr.com         ORG_INVITE   \n",
       "10       MaltheAPaulsen@gustr.com             SIGNUP   \n",
       "11      LaerkeLMathiesen@cuvox.de         ORG_INVITE   \n",
       "12         AlexanderDFry@cuvox.de         ORG_INVITE   \n",
       "13          BretKRivera@gmail.com             SIGNUP   \n",
       "14         RalfTheiss@hotmail.com  PERSONAL_PROJECTS   \n",
       "\n",
       "    last_session_creation_time  opted_in_to_mailing_list  \\\n",
       "0                 1.398139e+09                         1   \n",
       "1                 1.396238e+09                         0   \n",
       "2                 1.363735e+09                         0   \n",
       "3                 1.369210e+09                         0   \n",
       "4                 1.358850e+09                         0   \n",
       "5                 1.387424e+09                         0   \n",
       "6                 1.356010e+09                         0   \n",
       "7                          NaN                         1   \n",
       "8                          NaN                         0   \n",
       "9                 1.401833e+09                         1   \n",
       "10                1.388117e+09                         0   \n",
       "11                         NaN                         0   \n",
       "12                1.396196e+09                         0   \n",
       "13                1.350058e+09                         0   \n",
       "14                         NaN                         0   \n",
       "\n",
       "    enabled_for_marketing_drip  org_id  invited_by_user_id adopted_user  \\\n",
       "0                            0      11             10803.0        False   \n",
       "1                            0       1               316.0         True   \n",
       "2                            0      94              1525.0        False   \n",
       "3                            0       1              5151.0        False   \n",
       "4                            0     193              5240.0        False   \n",
       "5                            0     197             11241.0        False   \n",
       "6                            1      37                 NaN        False   \n",
       "7                            1      74                 NaN          NaN   \n",
       "8                            0     302                 NaN          NaN   \n",
       "9                            1     318              4143.0         True   \n",
       "10                           0      69                 NaN        False   \n",
       "11                           0     130              9270.0          NaN   \n",
       "12                           0     254             11204.0        False   \n",
       "13                           0       0                 NaN        False   \n",
       "14                           0     175                 NaN          NaN   \n",
       "\n",
       "    invited_by_user  \n",
       "0              True  \n",
       "1              True  \n",
       "2              True  \n",
       "3              True  \n",
       "4              True  \n",
       "5              True  \n",
       "6             False  \n",
       "7             False  \n",
       "8             False  \n",
       "9              True  \n",
       "10            False  \n",
       "11             True  \n",
       "12             True  \n",
       "13            False  \n",
       "14            False  "
      ]
     },
     "execution_count": 219,
     "metadata": {},
     "output_type": "execute_result"
    }
   ],
   "source": [
    "df_merged.head(15)"
   ]
  },
  {
   "cell_type": "code",
   "execution_count": 221,
   "id": "a2ef5711-e7e9-4f10-a19f-dbfc645a2f84",
   "metadata": {},
   "outputs": [
    {
     "data": {
      "text/plain": [
       "3177"
      ]
     },
     "execution_count": 221,
     "metadata": {},
     "output_type": "execute_result"
    }
   ],
   "source": [
    "# check for missing values in this newly created column\n",
    "df_merged.adopted_user.isna().sum()"
   ]
  },
  {
   "cell_type": "markdown",
   "id": "3810b8d3-2d5f-4445-a1e4-273630c58058",
   "metadata": {},
   "source": [
    "### Visualizations"
   ]
  },
  {
   "cell_type": "code",
   "execution_count": 223,
   "id": "690776df-253d-49c8-aa10-d1664857a42f",
   "metadata": {},
   "outputs": [
    {
     "data": {
      "image/png": "[encoded data removed]",
      "text/plain": [
       "<Figure size 640x480 with 1 Axes>"
      ]
     },
     "metadata": {},
     "output_type": "display_data"
    }
   ],
   "source": [
    "# adopted vs not adopted users\n",
    "sns.countplot(x='adopted_user', data=df_merged, stat='percent', hue='adopted_user')\n",
    "plt.xticks([0,1], ['Not adopted', 'Adopted']);"
   ]
  },
  {
   "cell_type": "code",
   "execution_count": 227,
   "id": "cb9b8262-ea05-4ae6-a5e5-a468269a3347",
   "metadata": {},
   "outputs": [
    {
     "data": {
      "image/png": "[encoded data removed]",
      "text/plain": [
       "<Figure size 640x480 with 1 Axes>"
      ]
     },
     "metadata": {},
     "output_type": "display_data"
    }
   ],
   "source": [
    "# adopted vs not adopted based on whether opting into email or not\n",
    "sns.countplot(x=\"opted_in_to_mailing_list\", hue=\"adopted_user\", data=df_merged)\n",
    "plt.legend(labels=[\"Not Adopted User\", \"Adopted User\"], title=\"\", loc=\"upper right\")\n",
    "plt.xticks([0,1], ['Not Opt-in', 'Opt-in']);"
   ]
  },
  {
   "cell_type": "code",
   "execution_count": 229,
   "id": "7a53e55f-7640-4c10-b10f-9c08ba232612",
   "metadata": {},
   "outputs": [
    {
     "data": {
      "image/png": "[encoded data removed]",
      "text/plain": [
       "<Figure size 640x480 with 1 Axes>"
      ]
     },
     "metadata": {},
     "output_type": "display_data"
    }
   ],
   "source": [
    "# adopted vs not adopted based on invite yes or no\n",
    "sns.countplot(x=\"invited_by_user\", hue=\"adopted_user\", data=df_merged)\n",
    "plt.legend(labels=[\"Not Adopted User\", \"Adopted User\"], title=\"\", loc=(1.01, 0.85))\n",
    "plt.xticks([False, True], ['Not Invited', 'Invited']);"
   ]
  },
  {
   "cell_type": "code",
   "execution_count": 225,
   "id": "4a7bec90-ed9a-4f34-854d-38d04fa39683",
   "metadata": {},
   "outputs": [
    {
     "data": {
      "image/png": "[encoded data removed]",
      "text/plain": [
       "<Figure size 640x480 with 1 Axes>"
      ]
     },
     "metadata": {},
     "output_type": "display_data"
    }
   ],
   "source": [
    "# adopted vs not adopted based on each type of invitation\n",
    "sns.countplot(x=\"creation_source\", hue=\"adopted_user\", data=df_merged)\n",
    "plt.legend(labels=[\"Not Adopted User\", \"Adopted User\"], title=\"\", loc=\"upper right\")\n",
    "plt.xticks(rotation=30);"
   ]
  },
  {
   "cell_type": "code",
   "execution_count": 232,
   "id": "6c1933f4-7416-49e6-b746-8f417c14a000",
   "metadata": {},
   "outputs": [
    {
     "data": {
      "image/png": "[encoded data removed]",
      "text/plain": [
       "<Figure size 500x300 with 1 Axes>"
      ]
     },
     "metadata": {},
     "output_type": "display_data"
    },
    {
     "data": {
      "image/png": "[encoded data removed]",
      "text/plain": [
       "<Figure size 500x300 with 1 Axes>"
      ]
     },
     "metadata": {},
     "output_type": "display_data"
    },
    {
     "data": {
      "image/png": "[encoded data removed]",
      "text/plain": [
       "<Figure size 500x300 with 1 Axes>"
      ]
     },
     "metadata": {},
     "output_type": "display_data"
    },
    {
     "data": {
      "image/png": "[encoded data removed]",
      "text/plain": [
       "<Figure size 500x300 with 1 Axes>"
      ]
     },
     "metadata": {},
     "output_type": "display_data"
    },
    {
     "data": {
      "image/png": "[encoded data removed]",
      "text/plain": [
       "<Figure size 500x300 with 1 Axes>"
      ]
     },
     "metadata": {},
     "output_type": "display_data"
    }
   ],
   "source": [
    "# for each potential factor, create seperate bar chart for HOW MANY\n",
    "# for each category within the factor, how many were adopted\n",
    "\n",
    "# fefine the list of column names (factors) to analyze\n",
    "factors = ['creation_source', 'opted_in_to_mailing_list', 'enabled_for_marketing_drip',\n",
    "        'org_id', 'invited_by_user']\n",
    "\n",
    "# loop through each column name specified in the 'factors' list\n",
    "for factor in factors:\n",
    "    # create a new, separate figure for the plot\n",
    "    plt.figure(figsize=(5, 3))\n",
    "\n",
    "    # group data by current factor's categories, count adopted (1) / non-adopted (0) within each, sort by counts, then create a bar plot\n",
    "    df_merged.groupby(factor)['adopted_user'].value_counts().sort_values().plot(kind='bar') \n",
    "    \n",
    "    # generat plot for the current factor\n",
    "    plt.show();\n",
    "    "
   ]
  },
  {
   "cell_type": "code",
   "execution_count": 236,
   "id": "3f2f0682-e47b-46b1-a1e0-384b6f21aa45",
   "metadata": {},
   "outputs": [
    {
     "data": {
      "image/png": "[encoded data removed]",
      "text/plain": [
       "<Figure size 500x300 with 1 Axes>"
      ]
     },
     "metadata": {},
     "output_type": "display_data"
    },
    {
     "data": {
      "image/png": "[encoded data removed]",
      "text/plain": [
       "<Figure size 500x300 with 1 Axes>"
      ]
     },
     "metadata": {},
     "output_type": "display_data"
    },
    {
     "data": {
      "image/png": "[encoded data removed]",
      "text/plain": [
       "<Figure size 500x300 with 1 Axes>"
      ]
     },
     "metadata": {},
     "output_type": "display_data"
    },
    {
     "data": {
      "image/png": "[encoded data removed]",
      "text/plain": [
       "<Figure size 500x300 with 1 Axes>"
      ]
     },
     "metadata": {},
     "output_type": "display_data"
    },
    {
     "data": {
      "image/png": "[encoded data removed]",
      "text/plain": [
       "<Figure size 500x300 with 1 Axes>"
      ]
     },
     "metadata": {},
     "output_type": "display_data"
    }
   ],
   "source": [
    "# plotting the adoption rate, proportion for each group\n",
    "\n",
    "# list of column names (factors) to analyze\n",
    "factors = ['creation_source', 'opted_in_to_mailing_list', 'enabled_for_marketing_drip',\n",
    "        'org_id', 'invited_by_user']\n",
    "\n",
    "# loop through each column name specified in the 'factors' list\n",
    "for factor in factors:\n",
    "    # create a new, separate figure for the plot (5 inches wide, 3 inches tall)\n",
    "    plt.figure(figsize=(5, 3))\n",
    "    \n",
    "    # group data by current factor's categories, calculate the MEAN adoption rate within each, sort by rate, then create a bar plot\n",
    "    df_merged.groupby(factor)['adopted_user'].mean().sort_values().plot(kind='bar') \n",
    "    \n",
    "    # Display the generated plot for the current factor\n",
    "    plt.show();"
   ]
  },
  {
   "cell_type": "markdown",
   "id": "e05a23de-0e11-4cfc-8bf8-822e15d5b22a",
   "metadata": {},
   "source": [
    "### Conclusions\n",
    "\n",
    "Factors that seem irrelevant include: opting into emails and getting marketing emails. \n",
    "\n",
    "Factors that seem interesting and contribute to adopted users are: whether the user got invited and the creation source, e.g, invitation by organization, guest invite, signup, signup via google auth, or if it was personal project related. "
   ]
  }
 ],
 "metadata": {
  "kernelspec": {
   "display_name": "Python 3 (ipykernel)",
   "language": "python",
   "name": "python3"
  },
  "language_info": {
   "codemirror_mode": {
    "name": "ipython",
    "version": 3
   },
   "file_extension": ".py",
   "mimetype": "text/x-python",
   "name": "python",
   "nbconvert_exporter": "python",
   "pygments_lexer": "ipython3",
   "version": "3.12.4"
  }
 },
 "nbformat": 4,
 "nbformat_minor": 5
}

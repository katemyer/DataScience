{
 "cells": [
  {
   "cell_type": "code",
   "execution_count": 5,
   "id": "0c890ab7-c7ce-40b3-ba7d-13cdb9582f0e",
   "metadata": {},
   "outputs": [],
   "source": [
    "import pandas as pd\n",
    "import numpy as np\n",
    "from sklearn.model_selection import train_test_split\n",
    "from sklearn.preprocessing import StandardScaler"
   ]
  },
  {
   "cell_type": "code",
   "execution_count": 7,
   "id": "48eac858-66f2-4ee5-883f-1b6794f22a58",
   "metadata": {},
   "outputs": [
    {
     "name": "stdout",
     "output_type": "stream",
     "text": [
      "  REGION TYPE REGION  YEAR  WEEK  % WEIGHTED ILI  %UNWEIGHTED ILI  AGE 0-4  \\\n",
      "0    National      X  1997    40         1.10148          1.21686      179   \n",
      "1    National      X  1997    41         1.20007          1.28064      199   \n",
      "2    National      X  1997    42         1.37876          1.23906      228   \n",
      "3    National      X  1997    43         1.19920          1.14473      188   \n",
      "4    National      X  1997    44         1.65618          1.26112      217   \n",
      "\n",
      "  AGE 25-49 AGE 25-64  AGE 5-24 AGE 50-64  AGE 65  ILITOTAL  \\\n",
      "0         X       157       205         X      29       570   \n",
      "1         X       151       242         X      23       615   \n",
      "2         X       153       266         X      34       681   \n",
      "3         X       193       236         X      36       653   \n",
      "4         X       162       280         X      41       700   \n",
      "\n",
      "   NUM. OF PROVIDERS  TOTAL PATIENTS  \n",
      "0                192           46842  \n",
      "1                191           48023  \n",
      "2                219           54961  \n",
      "3                213           57044  \n",
      "4                213           55506  \n",
      "<class 'pandas.core.frame.DataFrame'>\n",
      "RangeIndex: 1434 entries, 0 to 1433\n",
      "Data columns (total 15 columns):\n",
      " #   Column             Non-Null Count  Dtype  \n",
      "---  ------             --------------  -----  \n",
      " 0   REGION TYPE        1434 non-null   object \n",
      " 1   REGION             1434 non-null   object \n",
      " 2   YEAR               1434 non-null   int64  \n",
      " 3   WEEK               1434 non-null   int64  \n",
      " 4   % WEIGHTED ILI     1434 non-null   float64\n",
      " 5   %UNWEIGHTED ILI    1434 non-null   float64\n",
      " 6   AGE 0-4            1434 non-null   int64  \n",
      " 7   AGE 25-49          1434 non-null   object \n",
      " 8   AGE 25-64          1434 non-null   object \n",
      " 9   AGE 5-24           1434 non-null   int64  \n",
      " 10  AGE 50-64          1434 non-null   object \n",
      " 11  AGE 65             1434 non-null   int64  \n",
      " 12  ILITOTAL           1434 non-null   int64  \n",
      " 13  NUM. OF PROVIDERS  1434 non-null   int64  \n",
      " 14  TOTAL PATIENTS     1434 non-null   int64  \n",
      "dtypes: float64(2), int64(8), object(5)\n",
      "memory usage: 168.2+ KB\n",
      "None\n"
     ]
    }
   ],
   "source": [
    "# Load the dataset, skipping the first row\n",
    "df = pd.read_csv(\"ILINet.csv\", skiprows=1)\n",
    "\n",
    "# Display the first few rows to check\n",
    "print(df.head())\n",
    "print(df.info())"
   ]
  },
  {
   "cell_type": "markdown",
   "id": "cd404b76-00b8-4f69-8d97-cc0cc7d0504f",
   "metadata": {},
   "source": [
    "## Preprocessing"
   ]
  },
  {
   "cell_type": "code",
   "execution_count": 10,
   "id": "7fcaf9b1-57ea-4743-8762-63e79889ee52",
   "metadata": {},
   "outputs": [],
   "source": [
    "#Handling Categorical Variables\n",
    "#'REGION TYPE'\n",
    "#'REGION'\n",
    "#convert to dummy variables in order to be used in a model\n",
    "df = pd.get_dummies(df, columns=['REGION TYPE', 'REGION'], drop_first=True)"
   ]
  },
  {
   "cell_type": "code",
   "execution_count": 12,
   "id": "d2822223-3d47-4eea-a749-43cce6d22e5f",
   "metadata": {},
   "outputs": [
    {
     "name": "stdout",
     "output_type": "stream",
     "text": [
      "   YEAR  WEEK  % WEIGHTED ILI  %UNWEIGHTED ILI  AGE 0-4 AGE 25-49 AGE 25-64  \\\n",
      "0  1997    40         1.10148          1.21686      179         X       157   \n",
      "1  1997    41         1.20007          1.28064      199         X       151   \n",
      "2  1997    42         1.37876          1.23906      228         X       153   \n",
      "3  1997    43         1.19920          1.14473      188         X       193   \n",
      "4  1997    44         1.65618          1.26112      217         X       162   \n",
      "\n",
      "   AGE 5-24 AGE 50-64  AGE 65  ILITOTAL  NUM. OF PROVIDERS  TOTAL PATIENTS  \n",
      "0       205         X      29       570                192           46842  \n",
      "1       242         X      23       615                191           48023  \n",
      "2       266         X      34       681                219           54961  \n",
      "3       236         X      36       653                213           57044  \n",
      "4       280         X      41       700                213           55506  \n"
     ]
    }
   ],
   "source": [
    "print(df.head())"
   ]
  },
  {
   "cell_type": "code",
   "execution_count": 18,
   "id": "1c4f6f18-facf-4feb-b424-caf225bd9ac7",
   "metadata": {},
   "outputs": [],
   "source": [
    "# Standardize Numeric Features\n",
    "# Data has features on different scales -> percentages vs raw counts, need to scale\n",
    "# Using StandardScaler to make sure all values have a zero mean and unit variance\n",
    "\n",
    "# Convert problematic columns to numeric (replace 'X' with NaN and fill with median)\n",
    "for col in ['AGE 25-49', 'AGE 25-64', 'AGE 50-64']:\n",
    "    df[col] = pd.to_numeric(df[col], errors='coerce')  # Convert 'X' to NaN\n",
    "    df[col] = df[col].fillna(df[col].median())  # Replace NaNs with median value\n",
    "\n",
    "# Identify numeric columns again after cleaning\n",
    "numeric_cols = ['% WEIGHTED ILI', '%UNWEIGHTED ILI', 'AGE 0-4', 'AGE 25-49', \n",
    "                'AGE 25-64', 'AGE 5-24', 'AGE 50-64', 'AGE 65', 'ILITOTAL', \n",
    "                'NUM. OF PROVIDERS', 'TOTAL PATIENTS']\n",
    "\n",
    "# Standardize numeric features\n",
    "scaler = StandardScaler()\n",
    "df[numeric_cols] = scaler.fit_transform(df[numeric_cols])"
   ]
  },
  {
   "cell_type": "code",
   "execution_count": 20,
   "id": "f1fc9b01-46f7-4cb9-a742-052eb3576ba0",
   "metadata": {},
   "outputs": [
    {
     "name": "stdout",
     "output_type": "stream",
     "text": [
      "   YEAR  WEEK  % WEIGHTED ILI  %UNWEIGHTED ILI   AGE 0-4  AGE 25-49  \\\n",
      "0  1997    40       -0.542828        -0.444555 -0.745622  -0.284656   \n",
      "1  1997    41       -0.476397        -0.399487 -0.742095  -0.284656   \n",
      "2  1997    42       -0.355993        -0.428868 -0.736981  -0.284656   \n",
      "3  1997    43       -0.476983        -0.495523 -0.744035  -0.284656   \n",
      "4  1997    44       -0.169063        -0.413280 -0.738920  -0.284656   \n",
      "\n",
      "   AGE 25-64  AGE 5-24  AGE 50-64    AGE 65  ILITOTAL  NUM. OF PROVIDERS  \\\n",
      "0  -0.693968 -0.653795  -0.273357 -0.514437 -0.646937          -1.295188   \n",
      "1  -0.700287 -0.649881  -0.273357 -0.516591 -0.645309          -1.296069   \n",
      "2  -0.698181 -0.647342  -0.273357 -0.512642 -0.642922          -1.271403   \n",
      "3  -0.656057 -0.650515  -0.273357 -0.511925 -0.643935          -1.276689   \n",
      "4  -0.688703 -0.645861  -0.273357 -0.510130 -0.642235          -1.276689   \n",
      "\n",
      "   TOTAL PATIENTS  \n",
      "0       -1.029240  \n",
      "1       -1.027559  \n",
      "2       -1.017683  \n",
      "3       -1.014718  \n",
      "4       -1.016907  \n"
     ]
    }
   ],
   "source": [
    "print(df.head())"
   ]
  },
  {
   "cell_type": "markdown",
   "id": "cd9b9cf1-078c-4d43-acb0-0819a076f595",
   "metadata": {},
   "source": [
    "## Training"
   ]
  },
  {
   "cell_type": "code",
   "execution_count": 22,
   "id": "c8de3aa7-d5b9-4ad3-aa71-12cba67bdf5f",
   "metadata": {},
   "outputs": [],
   "source": [
    "# Define features (X) and target variable (y)\n",
    "X = df.drop(columns=['% WEIGHTED ILI'])  # Features\n",
    "y = df['% WEIGHTED ILI']  # Target variable"
   ]
  },
  {
   "cell_type": "code",
   "execution_count": 24,
   "id": "5f065c06-012d-4f2a-a1f1-c6fb8c4bf5f7",
   "metadata": {},
   "outputs": [],
   "source": [
    "# Split into 80% training and 20% testing\n",
    "X_train, X_test, y_train, y_test = train_test_split(X, y, test_size=0.2, random_state=42, shuffle=False)  # Shuffle=False for time series\n"
   ]
  },
  {
   "cell_type": "code",
   "execution_count": 26,
   "id": "2359e640-8c9d-4a36-8571-34120b860e1a",
   "metadata": {},
   "outputs": [
    {
     "name": "stdout",
     "output_type": "stream",
     "text": [
      "Training set size: (1147, 12)\n",
      "Testing set size: (287, 12)\n"
     ]
    }
   ],
   "source": [
    "### Step 4: Output Data Information\n",
    "print(\"Training set size:\", X_train.shape)\n",
    "print(\"Testing set size:\", X_test.shape)"
   ]
  },
  {
   "cell_type": "markdown",
   "id": "2415307a-c762-42b9-ab2a-94de2702f223",
   "metadata": {},
   "source": [
    "## Conclusions\n",
    "\n",
    "###\n",
    "Training and testing split appears well balanced. With 1147 training samples, there is enough historical data to learn patterns. Also with 287 test samples, there is enough unseen data to fairly evaluate performance. "
   ]
  },
  {
   "cell_type": "code",
   "execution_count": null,
   "id": "5b6b19eb-ebc6-4695-b9d5-42af6567b4e7",
   "metadata": {},
   "outputs": [],
   "source": []
  }
 ],
 "metadata": {
  "kernelspec": {
   "display_name": "Python 3 (ipykernel)",
   "language": "python",
   "name": "python3"
  },
  "language_info": {
   "codemirror_mode": {
    "name": "ipython",
    "version": 3
   },
   "file_extension": ".py",
   "mimetype": "text/x-python",
   "name": "python",
   "nbconvert_exporter": "python",
   "pygments_lexer": "ipython3",
   "version": "3.12.4"
  }
 },
 "nbformat": 4,
 "nbformat_minor": 5
}

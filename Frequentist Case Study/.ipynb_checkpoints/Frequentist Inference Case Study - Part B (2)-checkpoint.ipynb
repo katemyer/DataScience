{
 "cells": [
  {
   "cell_type": "markdown",
   "metadata": {},
   "source": [
    "# Frequentist Inference Case Study - Part B"
   ]
  },
  {
   "cell_type": "markdown",
   "metadata": {},
   "source": [
    "## Learning objectives"
   ]
  },
  {
   "cell_type": "markdown",
   "metadata": {},
   "source": [
    "Welcome to Part B of the Frequentist inference case study! The purpose of this case study is to help you apply the concepts associated with Frequentist inference in Python. In particular, you'll practice writing Python code to apply the following statistical concepts: \n",
    "* the _z_-statistic\n",
    "* the _t_-statistic\n",
    "* the difference and relationship between the two\n",
    "* the Central Limit Theorem, including its assumptions and consequences\n",
    "* how to estimate the population mean and standard deviation from a sample\n",
    "* the concept of a sampling distribution of a test statistic, particularly for the mean\n",
    "* how to combine these concepts to calculate a confidence interval"
   ]
  },
  {
   "cell_type": "markdown",
   "metadata": {},
   "source": [
    "In the previous notebook, we used only data from a known normal distribution. **You'll now tackle real data, rather than simulated data, and answer some relevant real-world business problems using the data.**"
   ]
  },
  {
   "cell_type": "markdown",
   "metadata": {},
   "source": [
    "## Hospital medical charges"
   ]
  },
  {
   "cell_type": "markdown",
   "metadata": {},
   "source": [
    "Imagine that a hospital has hired you as their data scientist. An administrator is working on the hospital's business operations plan and needs you to help them answer some business questions. \n",
    "\n",
    "In this assignment notebook, you're going to use frequentist statistical inference on a data sample to answer the questions:\n",
    "* has the hospital's revenue stream fallen below a key threshold?\n",
    "* are patients with insurance really charged different amounts than those without?\n",
    "\n",
    "Answering that last question with a frequentist approach makes some assumptions, and requires some knowledge, about the two groups."
   ]
  },
  {
   "cell_type": "markdown",
   "metadata": {},
   "source": [
    "We are going to use some data on medical charges obtained from [Kaggle](https://www.kaggle.com/easonlai/sample-insurance-claim-prediction-dataset). \n",
    "\n",
    "For the purposes of this exercise, assume the observations are the result of random sampling from our single hospital. Recall that in the previous assignment, we introduced the Central Limit Theorem (CLT), and its consequence that the distributions of sample statistics approach a normal distribution as $n$ increases. The amazing thing about this is that it applies to the sampling distributions of statistics that have been calculated from even highly non-normal distributions of data! Recall, also, that hypothesis testing is very much based on making inferences about such sample statistics. You're going to rely heavily on the CLT to apply frequentist (parametric) tests to answer the questions in this notebook."
   ]
  },
  {
   "cell_type": "code",
   "execution_count": 36,
   "metadata": {},
   "outputs": [],
   "source": [
    "import pandas as pd\n",
    "import numpy as np\n",
    "import matplotlib.pyplot as plt\n",
    "from scipy.stats import t, ttest_ind\n",
    "from numpy.random import seed\n",
    "medical = pd.read_csv('insurance2.csv')"
   ]
  },
  {
   "cell_type": "code",
   "execution_count": 8,
   "metadata": {},
   "outputs": [
    {
     "data": {
      "text/plain": [
       "(1338, 8)"
      ]
     },
     "execution_count": 8,
     "metadata": {},
     "output_type": "execute_result"
    }
   ],
   "source": [
    "medical.shape"
   ]
  },
  {
   "cell_type": "code",
   "execution_count": 10,
   "metadata": {},
   "outputs": [
    {
     "data": {
      "text/html": [
       "<div>\n",
       "<style scoped>\n",
       "    .dataframe tbody tr th:only-of-type {\n",
       "        vertical-align: middle;\n",
       "    }\n",
       "\n",
       "    .dataframe tbody tr th {\n",
       "        vertical-align: top;\n",
       "    }\n",
       "\n",
       "    .dataframe thead th {\n",
       "        text-align: right;\n",
       "    }\n",
       "</style>\n",
       "<table border=\"1\" class=\"dataframe\">\n",
       "  <thead>\n",
       "    <tr style=\"text-align: right;\">\n",
       "      <th></th>\n",
       "      <th>age</th>\n",
       "      <th>sex</th>\n",
       "      <th>bmi</th>\n",
       "      <th>children</th>\n",
       "      <th>smoker</th>\n",
       "      <th>region</th>\n",
       "      <th>charges</th>\n",
       "      <th>insuranceclaim</th>\n",
       "    </tr>\n",
       "  </thead>\n",
       "  <tbody>\n",
       "    <tr>\n",
       "      <th>0</th>\n",
       "      <td>19</td>\n",
       "      <td>0</td>\n",
       "      <td>27.900</td>\n",
       "      <td>0</td>\n",
       "      <td>1</td>\n",
       "      <td>3</td>\n",
       "      <td>16884.92400</td>\n",
       "      <td>1</td>\n",
       "    </tr>\n",
       "    <tr>\n",
       "      <th>1</th>\n",
       "      <td>18</td>\n",
       "      <td>1</td>\n",
       "      <td>33.770</td>\n",
       "      <td>1</td>\n",
       "      <td>0</td>\n",
       "      <td>2</td>\n",
       "      <td>1725.55230</td>\n",
       "      <td>1</td>\n",
       "    </tr>\n",
       "    <tr>\n",
       "      <th>2</th>\n",
       "      <td>28</td>\n",
       "      <td>1</td>\n",
       "      <td>33.000</td>\n",
       "      <td>3</td>\n",
       "      <td>0</td>\n",
       "      <td>2</td>\n",
       "      <td>4449.46200</td>\n",
       "      <td>0</td>\n",
       "    </tr>\n",
       "    <tr>\n",
       "      <th>3</th>\n",
       "      <td>33</td>\n",
       "      <td>1</td>\n",
       "      <td>22.705</td>\n",
       "      <td>0</td>\n",
       "      <td>0</td>\n",
       "      <td>1</td>\n",
       "      <td>21984.47061</td>\n",
       "      <td>0</td>\n",
       "    </tr>\n",
       "    <tr>\n",
       "      <th>4</th>\n",
       "      <td>32</td>\n",
       "      <td>1</td>\n",
       "      <td>28.880</td>\n",
       "      <td>0</td>\n",
       "      <td>0</td>\n",
       "      <td>1</td>\n",
       "      <td>3866.85520</td>\n",
       "      <td>1</td>\n",
       "    </tr>\n",
       "  </tbody>\n",
       "</table>\n",
       "</div>"
      ],
      "text/plain": [
       "   age  sex     bmi  children  smoker  region      charges  insuranceclaim\n",
       "0   19    0  27.900         0       1       3  16884.92400               1\n",
       "1   18    1  33.770         1       0       2   1725.55230               1\n",
       "2   28    1  33.000         3       0       2   4449.46200               0\n",
       "3   33    1  22.705         0       0       1  21984.47061               0\n",
       "4   32    1  28.880         0       0       1   3866.85520               1"
      ]
     },
     "execution_count": 10,
     "metadata": {},
     "output_type": "execute_result"
    }
   ],
   "source": [
    "medical.head()"
   ]
  },
  {
   "cell_type": "markdown",
   "metadata": {},
   "source": [
    "__Q1:__ Plot the histogram of charges and calculate the mean and standard deviation. Comment on the appropriateness of these statistics for the data."
   ]
  },
  {
   "cell_type": "markdown",
   "metadata": {},
   "source": [
    "__A:__"
   ]
  },
  {
   "cell_type": "code",
   "execution_count": 16,
   "metadata": {},
   "outputs": [
    {
     "data": {
      "image/png": "[encoded data removed]",
      "text/plain": [
       "<Figure size 1000x500 with 1 Axes>"
      ]
     },
     "metadata": {},
     "output_type": "display_data"
    },
    {
     "name": "stdout",
     "output_type": "stream",
     "text": [
      "Mean of Charges: 13270.42\n",
      "Standard Deviation of Charges: 12110.01\n"
     ]
    }
   ],
   "source": [
    "# Plot the histogram of charges\n",
    "plt.figure(figsize=(10, 5))\n",
    "plt.hist(medical['charges'], bins=30, color=\"blue\", alpha=0.7, edgecolor=\"black\")\n",
    "plt.xlabel(\"Insurance Charges\")\n",
    "plt.ylabel(\"Frequency\")\n",
    "plt.title(\"Histogram of Insurance Charges\")\n",
    "plt.grid(True)\n",
    "plt.show()\n",
    "\n",
    "# Calculate mean and standard deviation\n",
    "mean_charges = np.mean(medical['charges'])\n",
    "std_charges = np.std(medical['charges'], ddof=1)  # Using sample standard deviation (N-1)\n",
    "\n",
    "print(f\"Mean of Charges: {mean_charges:.2f}\")\n",
    "print(f\"Standard Deviation of Charges: {std_charges:.2f}\")"
   ]
  },
  {
   "cell_type": "code",
   "execution_count": null,
   "metadata": {},
   "outputs": [],
   "source": [
    "#Analysis and Appropriateness of the Mean and STD:\n",
    "\n",
    "#If the histogram is symmetric and bell-shaped (normal distribution):\n",
    "#The mean and standard deviation are appropriate descriptive statistics.\n",
    "#They summarize the data well because most values are centered around the mean, with a predictable spread.\n",
    "\n",
    "#If the histogram is right-skewed (common in insurance charges):\n",
    "#The mean may not be the best representation because it can be pulled upward by very high charges (outliers).\n",
    "#The median might be a better measure of central tendency in this case.\n",
    "#Standard deviation might not be meaningful if the data has a long tail."
   ]
  },
  {
   "cell_type": "markdown",
   "metadata": {},
   "source": [
    "__Q2:__ The administrator is concerned that the actual average charge has fallen below 12,000, threatening the hospital's operational model. On the assumption that these data represent a random sample of charges, how would you justify that these data allow you to answer that question? And what would be the most appropriate frequentist test, of the ones discussed so far, to apply?"
   ]
  },
  {
   "cell_type": "markdown",
   "metadata": {},
   "source": [
    "__A:__\n",
    "If the sample is randomly drawn, it provides an unbiased estimate of the true population mean.\n",
    "\n",
    "By calculating a confidence interval or performing a hypothesis test, we can determine whether there is enough evidence to conclude that the population mean is below 12,000.\n",
    "\n",
    "The most appropriate test to apply in this situation is a one-sample t-test because:\n",
    "- The population standard deviation is unknown, so we must estimate it using the sample standard deviation.\n",
    "- The sample size is finite, meaning we use the t-distribution instead of the normal distribution.\n",
    "- We are testing whether the population mean is less than 12,000, which suggests a one-tailed test."
   ]
  },
  {
   "cell_type": "markdown",
   "metadata": {},
   "source": [
    "__Q3:__ Given the nature of the administrator's concern, what is the appropriate confidence interval in this case? A ***one-sided*** or ***two-sided*** interval? (Refresh your understanding of this concept on p. 399 of the *AoS*). Calculate the critical value and the relevant 95% confidence interval for the mean, and comment on whether the administrator should be concerned."
   ]
  },
  {
   "cell_type": "markdown",
   "metadata": {},
   "source": [
    "__A:__\n",
    "Since the administrator is specifically concerned about whether the true mean charge has fallen below $12,000$, we need to test for a decrease rather than simply checking for any deviation.\n",
    "\n",
    "A two-sided confidence interval would check whether the mean differs in either direction (higher or lower than $12,000$).\n",
    "\n",
    "However, since we are only concerned with the lower bound, a one-sided confidence interval is more appropriate.\n",
    "\n",
    "Thus, we compute a one-sided lower confidence bound for the mean charge."
   ]
  },
  {
   "cell_type": "code",
   "execution_count": 18,
   "metadata": {},
   "outputs": [
    {
     "name": "stdout",
     "output_type": "stream",
     "text": [
      "Mean Charges: 13270.42\n",
      "Standard Deviation: 12110.01\n",
      "Sample Size: 1338\n",
      "Critical t-value: 1.6460\n",
      "Margin of Error: 544.94\n",
      "Lower Bound of 95% Confidence Interval: 12725.49\n"
     ]
    }
   ],
   "source": [
    "# Sample statistics\n",
    "mean_charges = np.mean(medical['charges'])\n",
    "std_charges = np.std(medical['charges'], ddof=1)  # Sample standard deviation\n",
    "n = len(medical['charges'])\n",
    "\n",
    "# Significance level for a one-sided 95% confidence interval\n",
    "alpha = 0.05  \n",
    "t_critical = t.ppf(1 - alpha, df=n-1)  # One-tailed critical value\n",
    "\n",
    "# Compute the margin of error\n",
    "margin_error = t_critical * (std_charges / np.sqrt(n))\n",
    "\n",
    "# Compute the lower bound of the confidence interval\n",
    "lower_bound = mean_charges - margin_error\n",
    "\n",
    "print(f\"Mean Charges: {mean_charges:.2f}\")\n",
    "print(f\"Standard Deviation: {std_charges:.2f}\")\n",
    "print(f\"Sample Size: {n}\")\n",
    "print(f\"Critical t-value: {t_critical:.4f}\")\n",
    "print(f\"Margin of Error: {margin_error:.2f}\")\n",
    "print(f\"Lower Bound of 95% Confidence Interval: {lower_bound:.2f}\")"
   ]
  },
  {
   "cell_type": "markdown",
   "metadata": {},
   "source": [
    "The administrator then wants to know whether people with insurance really are charged a different amount to those without.\n",
    "\n",
    "__Q4:__ State the null and alternative hypothesis here. Use the _t_-test for the difference between means, where the pooled standard deviation of the two groups is given by:\n",
    "\\begin{equation}\n",
    "s_p = \\sqrt{\\frac{(n_0 - 1)s^2_0 + (n_1 - 1)s^2_1}{n_0 + n_1 - 2}}\n",
    "\\end{equation}\n",
    "\n",
    "and the *t*-test statistic is then given by:\n",
    "\n",
    "\\begin{equation}\n",
    "t = \\frac{\\bar{x}_0 - \\bar{x}_1}{s_p \\sqrt{1/n_0 + 1/n_1}}.\n",
    "\\end{equation}\n",
    "\n",
    "(If you need some reminding of the general definition of ***t-statistic***, check out the definition on p. 404 of *AoS*). \n",
    "\n",
    "What assumption about the variances of the two groups are we making here?"
   ]
  },
  {
   "cell_type": "markdown",
   "metadata": {},
   "source": [
    "__A:__\n",
    "- Null Hypothesis: Insured and uninsured individuals are charged the same on average\n",
    "- Alternative Hypothesis: There is a difference in charges between the two groups\n",
    "  \n",
    "- The assumptions about the variances of the two groups are:\n",
    "- We assume equal variances in both groups (homoscedasticity).\n",
    "- If this assumption is violated, Welch’s t-test should be used instead."
   ]
  },
  {
   "cell_type": "markdown",
   "metadata": {},
   "source": [
    "__Q5:__ Perform this hypothesis test both manually, using the above formulae, and then using the appropriate function from [scipy.stats](https://docs.scipy.org/doc/scipy/reference/stats.html#statistical-tests) (hint, you're looking for a function to perform a _t_-test on two independent samples). For the manual approach, calculate the value of the test statistic and then its probability (the p-value). Verify you get the same results from both."
   ]
  },
  {
   "cell_type": "markdown",
   "metadata": {},
   "source": [
    "__A:__ "
   ]
  },
  {
   "cell_type": "code",
   "execution_count": 22,
   "metadata": {},
   "outputs": [
    {
     "name": "stdout",
     "output_type": "stream",
     "text": [
      "Index(['age', 'sex', 'bmi', 'children', 'smoker', 'region', 'charges',\n",
      "       'insuranceclaim'],\n",
      "      dtype='object')\n"
     ]
    }
   ],
   "source": [
    "print(medical.columns)"
   ]
  },
  {
   "cell_type": "code",
   "execution_count": 26,
   "metadata": {},
   "outputs": [
    {
     "name": "stdout",
     "output_type": "stream",
     "text": [
      "Number of insured: 0\n",
      "Number of uninsured: 0\n"
     ]
    }
   ],
   "source": [
    "print(f\"Number of insured: {n1}\")\n",
    "print(f\"Number of uninsured: {n2}\")"
   ]
  },
  {
   "cell_type": "code",
   "execution_count": 28,
   "metadata": {},
   "outputs": [
    {
     "name": "stdout",
     "output_type": "stream",
     "text": [
      "[1 0]\n"
     ]
    }
   ],
   "source": [
    "print(medical['insuranceclaim'].unique())"
   ]
  },
  {
   "cell_type": "code",
   "execution_count": 30,
   "metadata": {},
   "outputs": [
    {
     "name": "stdout",
     "output_type": "stream",
     "text": [
      "Number of insured: 783\n",
      "Number of uninsured: 555\n"
     ]
    }
   ],
   "source": [
    "# Split data into insured and uninsured groups\n",
    "insured = medical[medical['insuranceclaim'] == 1]['charges']\n",
    "uninsured = medical[medical['insuranceclaim'] == 0]['charges']\n",
    "\n",
    "# Get the sample sizes\n",
    "n1, n2 = len(insured), len(uninsured)\n",
    "\n",
    "# Print the sample sizes\n",
    "print(f\"Number of insured: {n1}\")\n",
    "print(f\"Number of uninsured: {n2}\")"
   ]
  },
  {
   "cell_type": "code",
   "execution_count": 38,
   "metadata": {},
   "outputs": [
    {
     "name": "stdout",
     "output_type": "stream",
     "text": [
      "Manual Calculation: t-statistic = 11.8933, p-value = 0.0000\n",
      "SciPy Function: t-statistic = 11.8933, p-value = 0.0000\n"
     ]
    }
   ],
   "source": [
    "# Sample statistics\n",
    "n1, n2 = len(insured), len(uninsured)\n",
    "x1, x2 = np.mean(insured), np.mean(uninsured)\n",
    "s1, s2 = np.std(insured, ddof=1), np.std(uninsured, ddof=1)\n",
    "\n",
    "# Manual pooled standard deviation calculation\n",
    "sp = np.sqrt(((n1 - 1) * s1**2 + (n2 - 1) * s2**2) / (n1 + n2 - 2))\n",
    "\n",
    "# Manual t-statistic calculation\n",
    "t_stat_manual = (x1 - x2) / (sp * np.sqrt(1/n1 + 1/n2))\n",
    "\n",
    "# Compute p-value (two-tailed test)\n",
    "df = n1 + n2 - 2  # Degrees of freedom\n",
    "p_value_manual = 2 * (1 - t.cdf(abs(t_stat_manual), df))\n",
    "\n",
    "# Using scipy function\n",
    "t_stat_scipy, p_value_scipy = ttest_ind(insured, uninsured, equal_var=True)\n",
    "\n",
    "# Print results\n",
    "print(f\"Manual Calculation: t-statistic = {t_stat_manual:.4f}, p-value = {p_value_manual:.4f}\")\n",
    "print(f\"SciPy Function: t-statistic = {t_stat_scipy:.4f}, p-value = {p_value_scipy:.4f}\")"
   ]
  },
  {
   "cell_type": "markdown",
   "metadata": {},
   "source": [
    "Congratulations! Hopefully you got the exact same numerical results. This shows that you correctly calculated the numbers by hand. Secondly, you used the correct function and saw that it's much easier to use. All you need to do is pass your data to it."
   ]
  },
  {
   "cell_type": "markdown",
   "metadata": {},
   "source": [
    "__Q6:__ Conceptual question: look through the documentation for statistical test functions in scipy.stats. You'll see the above _t_-test for a sample, but can you see an equivalent one for performing a *z*-test from a sample? Comment on your answer."
   ]
  },
  {
   "cell_type": "markdown",
   "metadata": {},
   "source": [
    "__A:__\n",
    "\n",
    "In scipy.stats, there isn't a direct function for performing a z-test in the same way that we have ttest_ind for the t-test. This is because a z-test is typically used when the population variance is known (or when the sample size is large enough that we can use the sample variance as an estimate of the population variance)."
   ]
  },
  {
   "cell_type": "markdown",
   "metadata": {},
   "source": [
    "## Learning outcomes"
   ]
  },
  {
   "cell_type": "markdown",
   "metadata": {},
   "source": [
    "Having completed this project notebook, you now have good hands-on experience:\n",
    "* using the central limit theorem to help you apply frequentist techniques to answer questions that pertain to very non-normally distributed data from the real world\n",
    "* performing inference using such data to answer business questions\n",
    "* forming a hypothesis and framing the null and alternative hypotheses\n",
    "* testing this using a _t_-test"
   ]
  }
 ],
 "metadata": {
  "kernelspec": {
   "display_name": "Python 3 (ipykernel)",
   "language": "python",
   "name": "python3"
  },
  "language_info": {
   "codemirror_mode": {
    "name": "ipython",
    "version": 3
   },
   "file_extension": ".py",
   "mimetype": "text/x-python",
   "name": "python",
   "nbconvert_exporter": "python",
   "pygments_lexer": "ipython3",
   "version": "3.12.4"
  }
 },
 "nbformat": 4,
 "nbformat_minor": 4
}

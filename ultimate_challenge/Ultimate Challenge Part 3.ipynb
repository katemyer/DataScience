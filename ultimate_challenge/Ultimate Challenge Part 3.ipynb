{
 "cells": [
  {
   "cell_type": "code",
   "execution_count": 3,
   "id": "79d94ae8-f0e0-42ac-8f8c-03ddbd4e8631",
   "metadata": {},
   "outputs": [],
   "source": [
    "import pandas as pd\n",
    "import numpy as np\n",
    "import matplotlib.pyplot as plt\n",
    "import seaborn as sns"
   ]
  },
  {
   "cell_type": "code",
   "execution_count": 4,
   "id": "94021bcb-7128-40f9-b8e1-9cd1b9172945",
   "metadata": {},
   "outputs": [
    {
     "name": "stdout",
     "output_type": "stream",
     "text": [
      "Columns: Index(['city', 'trips_in_first_30_days', 'signup_date', 'avg_rating_of_driver',\n",
      "       'avg_surge', 'last_trip_date', 'phone', 'surge_pct',\n",
      "       'ultimate_black_user', 'weekday_pct', 'avg_dist',\n",
      "       'avg_rating_by_driver'],\n",
      "      dtype='object')\n",
      "             city  trips_in_first_30_days signup_date  avg_rating_of_driver  \\\n",
      "0  King's Landing                       4  2014-01-25                   4.7   \n",
      "1         Astapor                       0  2014-01-29                   5.0   \n",
      "2         Astapor                       3  2014-01-06                   4.3   \n",
      "3  King's Landing                       9  2014-01-10                   4.6   \n",
      "4      Winterfell                      14  2014-01-27                   4.4   \n",
      "\n",
      "   avg_surge last_trip_date    phone  surge_pct  ultimate_black_user  \\\n",
      "0       1.10     2014-06-17   iPhone       15.4                 True   \n",
      "1       1.00     2014-05-05  Android        0.0                False   \n",
      "2       1.00     2014-01-07   iPhone        0.0                False   \n",
      "3       1.14     2014-06-29   iPhone       20.0                 True   \n",
      "4       1.19     2014-03-15  Android       11.8                False   \n",
      "\n",
      "   weekday_pct  avg_dist  avg_rating_by_driver  \n",
      "0         46.2      3.67                   5.0  \n",
      "1         50.0      8.26                   5.0  \n",
      "2        100.0      0.77                   5.0  \n",
      "3         80.0      2.36                   4.9  \n",
      "4         82.4      3.13                   4.9  \n"
     ]
    }
   ],
   "source": [
    "# 1. Load the dataset\n",
    "data = pd.read_json(\"ultimate_data_challenge.json\")\n",
    "\n",
    "# Inspect the first few rows and columns to understand the structure\n",
    "print(\"Columns:\", data.columns)\n",
    "print(data.head())"
   ]
  },
  {
   "cell_type": "code",
   "execution_count": null,
   "id": "7cf26330-437b-4d9e-b1b2-3cba77dc9189",
   "metadata": {},
   "outputs": [],
   "source": [
    "# 2. Data Cleaning & Preprocessing"
   ]
  },
  {
   "cell_type": "code",
   "execution_count": 13,
   "id": "56ee1c6d-f7a4-4ab8-b9d2-4518e7248d9b",
   "metadata": {},
   "outputs": [
    {
     "name": "stdout",
     "output_type": "stream",
     "text": [
      "  signup_date last_trip_date\n",
      "0  2014-01-25     2014-06-17\n",
      "1  2014-01-29     2014-05-05\n",
      "2  2014-01-06     2014-01-07\n",
      "3  2014-01-10     2014-06-29\n",
      "4  2014-01-27     2014-03-15\n",
      "Missing values:\n",
      " city                         0\n",
      "phone                      396\n",
      "signup_date                  0\n",
      "last_trip_date               0\n",
      "avg_dist                     0\n",
      "avg_rating_by_driver       201\n",
      "avg_rating_of_driver      8122\n",
      "surge_pct                    0\n",
      "avg_surge                    0\n",
      "trips_in_first_30_days       0\n",
      "ultimate_black_user          0\n",
      "weekday_pct                  0\n",
      "dtype: int64\n"
     ]
    }
   ],
   "source": [
    "# Convert 'signup_date' and 'last_trip_date' from 'YYYYMMDD' string to datetime format\n",
    "data['signup_date'] = pd.to_datetime(data['signup_date'])\n",
    "data['last_trip_date'] = pd.to_datetime(data['last_trip_date'])\n",
    "\n",
    "# Verify conversion by printing the first few rows again\n",
    "print(data[['signup_date', 'last_trip_date']].head())\n",
    "\n",
    "# Check for missing values across key columns\n",
    "key_cols = ['city', 'phone', 'signup_date', 'last_trip_date', 'avg_dist',\n",
    "            'avg_rating_by_driver', 'avg_rating_of_driver', 'surge_pct',\n",
    "            'avg_surge', 'trips_in_first_30_days', 'ultimate_black_user', 'weekday_pct']\n",
    "print(\"Missing values:\\n\", data[key_cols].isnull().sum())\n"
   ]
  },
  {
   "cell_type": "code",
   "execution_count": 15,
   "id": "f0eefb9f-7c72-428b-a3c4-7a4ec6b6177b",
   "metadata": {},
   "outputs": [
    {
     "name": "stdout",
     "output_type": "stream",
     "text": [
      "  signup_date last_trip_date\n",
      "0  2014-01-25     2014-06-17\n",
      "1  2014-01-29     2014-05-05\n",
      "2  2014-01-06     2014-01-07\n",
      "3  2014-01-10     2014-06-29\n",
      "4  2014-01-27     2014-03-15\n"
     ]
    }
   ],
   "source": [
    "# Verify conversion by printing the first few rows again\n",
    "print(data[['signup_date', 'last_trip_date']].head())"
   ]
  },
  {
   "cell_type": "code",
   "execution_count": 23,
   "id": "a3f5dd3a-2709-48e3-9326-b3e5f23684c4",
   "metadata": {},
   "outputs": [],
   "source": [
    "# drop rows with missing values in these key columns\n",
    "data_clean = data.dropna(subset=key_cols)"
   ]
  },
  {
   "cell_type": "code",
   "execution_count": 25,
   "id": "3960817d-38e8-4a98-9cc0-7dcdbd9d06c0",
   "metadata": {},
   "outputs": [
    {
     "name": "stdout",
     "output_type": "stream",
     "text": [
      "Original data shape: (50000, 12)\n",
      "Cleaned data shape: (41445, 12)\n"
     ]
    }
   ],
   "source": [
    "# Print shape of data before and after cleaning\n",
    "print(\"Original data shape:\", data.shape)\n",
    "print(\"Cleaned data shape:\", data_clean.shape)"
   ]
  },
  {
   "cell_type": "code",
   "execution_count": null,
   "id": "5ab1c89e-d6a4-4cda-b7bb-d67a9873b802",
   "metadata": {},
   "outputs": [],
   "source": [
    "# 3. Create Retention Label"
   ]
  },
  {
   "cell_type": "code",
   "execution_count": 29,
   "id": "474e6e4a-25c9-4369-81a9-7ef4b1604c7d",
   "metadata": {},
   "outputs": [],
   "source": [
    "# Define the 6-month anniversary for each user\n",
    "data_clean.loc[:, 'six_month_anniv'] = data_clean['signup_date'] + pd.DateOffset(months=6)"
   ]
  },
  {
   "cell_type": "code",
   "execution_count": 33,
   "id": "a1ced88e-941a-4ad5-b2cd-a709865d41ef",
   "metadata": {},
   "outputs": [],
   "source": [
    "# Define 'retained' as 1 if the user's last_trip_date is within the 30 days preceding their 6-month anniversary,\n",
    "# otherwise 0.\n",
    "data_clean.loc[:, 'retained'] = (data_clean['last_trip_date'] >= (data_clean['six_month_anniv'] - pd.DateOffset(days=30))).astype(int)"
   ]
  },
  {
   "cell_type": "code",
   "execution_count": 35,
   "id": "3081abca-5b41-4590-a529-c6054eba1111",
   "metadata": {},
   "outputs": [
    {
     "name": "stdout",
     "output_type": "stream",
     "text": [
      "  signup_date last_trip_date six_month_anniv  retained\n",
      "0  2014-01-25     2014-06-17      2014-07-25         0\n",
      "1  2014-01-29     2014-05-05      2014-07-29         0\n",
      "2  2014-01-06     2014-01-07      2014-07-06         0\n",
      "3  2014-01-10     2014-06-29      2014-07-10         1\n",
      "4  2014-01-27     2014-03-15      2014-07-27         0\n"
     ]
    }
   ],
   "source": [
    "# Inspect the computed columns\n",
    "print(data_clean[['signup_date', 'last_trip_date', 'six_month_anniv', 'retained']].head())"
   ]
  },
  {
   "cell_type": "code",
   "execution_count": 37,
   "id": "91b492f5-50a2-46ac-812d-90beb8313077",
   "metadata": {},
   "outputs": [
    {
     "name": "stdout",
     "output_type": "stream",
     "text": [
      "Retention Fraction (proportion of users retained): 0.271106285438533\n"
     ]
    }
   ],
   "source": [
    "# Calculate and print the retention fraction\n",
    "retention_fraction = data_clean['retained'].mean()\n",
    "print(\"Retention Fraction (proportion of users retained):\", retention_fraction)"
   ]
  },
  {
   "cell_type": "code",
   "execution_count": null,
   "id": "960f4cad-834c-4f2b-9c85-d3e8d253d9f5",
   "metadata": {},
   "outputs": [],
   "source": [
    "# 4. Exploratory Data Analysis"
   ]
  },
  {
   "cell_type": "code",
   "execution_count": 39,
   "id": "1f37a598-92ee-40b3-8ee2-0a9c19abdb20",
   "metadata": {},
   "outputs": [
    {
     "data": {
      "image/png": "[encoded data removed]",
      "text/plain": [
       "<Figure size 800x400 with 1 Axes>"
      ]
     },
     "metadata": {},
     "output_type": "display_data"
    }
   ],
   "source": [
    "plt.figure(figsize=(8, 4))\n",
    "sns.countplot(x='retained', data=data_clean)\n",
    "plt.title(\"User Retention Distribution (6th Month Activity)\")\n",
    "plt.xlabel(\"Retained (1 = Active in 6th Month)\")\n",
    "plt.ylabel(\"Count\")\n",
    "plt.show()"
   ]
  },
  {
   "cell_type": "markdown",
   "id": "16f708a0-b38d-4627-ab8e-e2cfd71cc526",
   "metadata": {},
   "source": [
    "### Discussion Questions\n",
    "\n",
    "1. Perform any cleaning, exploratory analysis, and/or visualizations to use the provided data for this analysis (a few sentences/plots describing your approach will suffice). What fraction of the observed users were retained?\n",
    "2. Build a predictive model to help Ultimate determine whether or not a user will be active in their 6th month on the system. Discuss why you chose your approach, what alternatives you considered, and any concerns you have. How valid is your model? Include any key indicators of model performance.\n",
    "3. Briefly discuss how Ultimate might leverage the insights gained from the model to improve its long term rider retention (again, a few sentences will suffice)."
   ]
  }
 ],
 "metadata": {
  "kernelspec": {
   "display_name": "Python 3 (ipykernel)",
   "language": "python",
   "name": "python3"
  },
  "language_info": {
   "codemirror_mode": {
    "name": "ipython",
    "version": 3
   },
   "file_extension": ".py",
   "mimetype": "text/x-python",
   "name": "python",
   "nbconvert_exporter": "python",
   "pygments_lexer": "ipython3",
   "version": "3.12.4"
  }
 },
 "nbformat": 4,
 "nbformat_minor": 5
}

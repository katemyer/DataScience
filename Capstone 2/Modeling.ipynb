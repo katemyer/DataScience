{
 "cells": [
  {
   "cell_type": "code",
   "execution_count": 45,
   "id": "752e0a7c-6487-4783-b683-f503474f0268",
   "metadata": {},
   "outputs": [
    {
     "name": "stdout",
     "output_type": "stream",
     "text": [
      "   DRNK3GE5  SLEPTIM1  EMTSUPRT  INCOME3  SEXVAR\n",
      "0       NaN       8.0       1.0     99.0       2\n",
      "1       NaN       6.0       1.0      5.0       2\n",
      "2       NaN       5.0       2.0     10.0       2\n",
      "3       NaN       7.0       1.0     77.0       2\n",
      "4      88.0       9.0       1.0      5.0       2\n",
      "5       NaN       7.0       2.0     99.0       1\n",
      "6      88.0       7.0       1.0      8.0       2\n",
      "7       NaN       8.0       1.0      7.0       2\n",
      "8       NaN       6.0       1.0      7.0       2\n",
      "9      88.0       7.0       1.0      7.0       2\n"
     ]
    }
   ],
   "source": [
    "import requests\n",
    "import pandas as pd\n",
    "import matplotlib.pyplot as plt\n",
    "import seaborn as sns\n",
    "import numpy as np\n",
    "import missingno as msno\n",
    "from sklearn.model_selection import train_test_split\n",
    "from sklearn.preprocessing import StandardScaler\n",
    "from sklearn.ensemble import RandomForestClassifier\n",
    "from sklearn.linear_model import LinearRegression\n",
    "from sklearn.ensemble import RandomForestRegressor\n",
    "from sklearn.metrics import mean_squared_error\n",
    "from sklearn.impute import SimpleImputer\n",
    "\n",
    "\n",
    "# Optional: Configure matplotlib for inline display in Jupyter\n",
    "%matplotlib inline\n",
    "\n",
    "#Loading the Data\n",
    "df = pd.read_csv('brfss_2022_final.csv')\n",
    "\n",
    "# Display the first few rows of the DataFrame\n",
    "print(df.head(10))"
   ]
  },
  {
   "cell_type": "markdown",
   "id": "2978905b-027f-4df0-89e4-1d5e80e28fb6",
   "metadata": {},
   "source": [
    "# Model Selection"
   ]
  },
  {
   "cell_type": "code",
   "execution_count": 48,
   "id": "d4f7a2f9-4df4-41ca-bae8-617be36c901c",
   "metadata": {},
   "outputs": [],
   "source": [
    "# Logistic Regression\n",
    "# Why: a good baseline model, interpretable and efficient"
   ]
  },
  {
   "cell_type": "code",
   "execution_count": 50,
   "id": "28d46d0a-b091-476f-ad93-08f44b71d679",
   "metadata": {},
   "outputs": [],
   "source": [
    "# Define features and target\n",
    "X = df.drop(columns=['DRNK3GE5'])  # Features\n",
    "y = df['DRNK3GE5']  # Target variable"
   ]
  },
  {
   "cell_type": "code",
   "execution_count": 52,
   "id": "0aa64e07-6b7c-42fd-b320-23f2c151e45f",
   "metadata": {},
   "outputs": [
    {
     "name": "stdout",
     "output_type": "stream",
     "text": [
      "   DRNK3GE5  SLEPTIM1  EMTSUPRT  INCOME3  SEXVAR\n",
      "0       NaN       8.0       1.0     99.0       2\n",
      "1       NaN       6.0       1.0      5.0       2\n",
      "2       NaN       5.0       2.0     10.0       2\n",
      "3       NaN       7.0       1.0     77.0       2\n",
      "4      88.0       9.0       1.0      5.0       2\n",
      "5       NaN       7.0       2.0     99.0       1\n",
      "6      88.0       7.0       1.0      8.0       2\n",
      "7       NaN       8.0       1.0      7.0       2\n",
      "8       NaN       6.0       1.0      7.0       2\n",
      "9      88.0       7.0       1.0      7.0       2\n"
     ]
    }
   ],
   "source": [
    "print(df.head(10))"
   ]
  },
  {
   "cell_type": "code",
   "execution_count": null,
   "id": "9d071e9b-ccb6-4955-96d9-6e19b4a571db",
   "metadata": {},
   "outputs": [],
   "source": [
    "# Random Forest Classifier\n",
    "# Why: Captures the nonlinear relationships and handles feature importance well"
   ]
  },
  {
   "cell_type": "code",
   "execution_count": null,
   "id": "7d36627d-0dc7-4452-880c-68a06209f274",
   "metadata": {},
   "outputs": [],
   "source": [
    "# XGBoost Classifier\n",
    "# Why: Based on gradient boosting, widely used for classification and regression tasks\n",
    "# because of its high performance, speed \n",
    "# works by building multiple weak models sequentially and each new tree tries to correct the errors of the previous one\n",
    "# it then adjusts weights in order to minimize errors\n",
    "# prevents overfitting with L1 (lasso) and L2 (ridge) regularization\n",
    "# also automatically handles missing data \n",
    "# lastly, it handles large data efficiently and this dataset is enormous"
   ]
  }
 ],
 "metadata": {
  "kernelspec": {
   "display_name": "Python 3 (ipykernel)",
   "language": "python",
   "name": "python3"
  },
  "language_info": {
   "codemirror_mode": {
    "name": "ipython",
    "version": 3
   },
   "file_extension": ".py",
   "mimetype": "text/x-python",
   "name": "python",
   "nbconvert_exporter": "python",
   "pygments_lexer": "ipython3",
   "version": "3.12.4"
  }
 },
 "nbformat": 4,
 "nbformat_minor": 5
}

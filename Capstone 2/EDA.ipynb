{
 "cells": [
  {
   "cell_type": "markdown",
   "id": "bcd14887-dbd7-453d-943b-159b7874a4d9",
   "metadata": {},
   "source": [
    "# Does Lack of Sleep, Emotional Support, and Income Affect Alcohol Usage\n",
    "\n",
    "\n",
    "Data Storytelling\n",
    "    \n",
    "    This capstone aims to understand the relationships between the independent variables such as: lack of sleep, lack of emotional support, and income and their influences on alcohol usage. Whether all three factors heavily influence alcohol usage will be examined as well as the individual relationships between the variables. It will be interesting to examine if lack of emotional support and low income are highly related and therefore influence alcohol usage. \n",
    "\n",
    "    According to the Centers for Disease Control (CDC, 2021), excessive alcohol usage causes over 178,000 deaths annually. This includes fatalities from conditions such as liver disease and various cancers, including breast cancer in women, colon cancer, liver cancer, and oral cavity cancer. Alcohol use is also associated with heart diseases like hypertension, stroke, and coronary heart illnesses. Additionally, it is a leading factor in more than 15,000 motor vehicle traffic crashes each year. \n",
    "\n",
    "\tNumerous factors contribute to alcohol use. Stress, a common part of life, triggers changes in bodily systems, with prolonged chronic stress causing significant harm (Rasheed, 2016). Lack of sleep (Blackwelder et al, 2021), lack of emotional support (Dvorak et al, 2014), and low income (Karriker-Jaffe et al, 2013) are a small number of factors that are often tied to chronic stress that may induce alcohol usage. \n",
    "\n",
    "\tAs Blackwelder and colleagues (2021) found, lack of sleep was defined as less than 6 hours per night with self-reported findings of mental health statuses as “not good” over a 2-week period. Lack of sleep is just as dangerous as being under the influence of alcohol as response times, ability to deal with daily demands, and cognition are at a deficit.\n",
    "\n",
    "\tLacking emotional support causes a person to feel quite alone and isolated from a high-demanding world. Social resources differ for those in different income brackets, and oftentimes, low income groups lack support all around. It has been found that women in poverty who lack social support as under high stress tend to use alcohol as a means to manage stress (Moos et al, 1989; Johnson & Jennison, 1994; McCreary & Sadava, 2000; Piece et al, 1996)."
   ]
  },
  {
   "cell_type": "code",
   "execution_count": 25,
   "id": "42c9cbca-0b41-4905-9423-e241064f5f5f",
   "metadata": {},
   "outputs": [
    {
     "name": "stdout",
     "output_type": "stream",
     "text": [
      "   DRNK3GE5  SLEPTIM1  EMTSUPRT  INCOME3  SEXVAR\n",
      "0       NaN       8.0       1.0     99.0       2\n",
      "1       NaN       6.0       1.0      5.0       2\n",
      "2       NaN       5.0       2.0     10.0       2\n",
      "3       NaN       7.0       1.0     77.0       2\n",
      "4      88.0       9.0       1.0      5.0       2\n",
      "5       NaN       7.0       2.0     99.0       1\n",
      "6      88.0       7.0       1.0      8.0       2\n",
      "7       NaN       8.0       1.0      7.0       2\n",
      "8       NaN       6.0       1.0      7.0       2\n",
      "9      88.0       7.0       1.0      7.0       2\n"
     ]
    }
   ],
   "source": [
    "import requests\n",
    "import pandas as pd\n",
    "import matplotlib.pyplot as plt\n",
    "import seaborn as sns\n",
    "import numpy as np\n",
    "\n",
    "# Optional: Configure matplotlib for inline display in Jupyter\n",
    "%matplotlib inline\n",
    "\n",
    "#Loading the Data\n",
    "df = pd.read_csv('../../DataScience/Capstone 2 - Data Wrangling/brfss_2022_final.csv')\n",
    "\n",
    "# Display the first few rows of the DataFrame\n",
    "print(df.head(10))"
   ]
  },
  {
   "cell_type": "markdown",
   "id": "f1297689-5a2d-41d5-95ae-63bd7b8b7c6c",
   "metadata": {},
   "source": [
    "I wanted to explore the range of sleep the data were showing. In 2024, Cleveland Clinic published an article highligting the effects of lack of sleep on a person's mind and body. Missing even as little as 1.5 hours of sleep or having periods of broken sleep can cause a person to have memory problems, lack of energy, mood swings, changes in physical appearance (dark eye circles, pale skin), lack of alertness, and even inability or lack of desire to participate in daily activities. Furthermore, lack of sleep even impacts weight gain and inability to cope with regular levels of daily stress. To overcome this, people will supplement with caffeine which then causes cardiovasular impacts such as heart palpitations and inability to sleep. In turn, this perpetuates the cycle even further. "
   ]
  }
 ],
 "metadata": {
  "kernelspec": {
   "display_name": "Python 3 (ipykernel)",
   "language": "python",
   "name": "python3"
  },
  "language_info": {
   "codemirror_mode": {
    "name": "ipython",
    "version": 3
   },
   "file_extension": ".py",
   "mimetype": "text/x-python",
   "name": "python",
   "nbconvert_exporter": "python",
   "pygments_lexer": "ipython3",
   "version": "3.12.4"
  }
 },
 "nbformat": 4,
 "nbformat_minor": 5
}
